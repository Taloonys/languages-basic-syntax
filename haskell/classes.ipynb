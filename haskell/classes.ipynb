{
 "cells": [
  {
   "cell_type": "markdown",
   "id": "4aa21ea3",
   "metadata": {},
   "source": [
    "* **There are no OOP classes, it's more like interfaces for types or type-category**"
   ]
  },
  {
   "cell_type": "code",
   "execution_count": 2,
   "id": "5d8c334b",
   "metadata": {
    "scrolled": true
   },
   "outputs": [
    {
     "data": {
      "text/html": [
       "<style>/* Styles used for the Hoogle display in the pager */\n",
       ".hoogle-doc {\n",
       "display: block;\n",
       "padding-bottom: 1.3em;\n",
       "padding-left: 0.4em;\n",
       "}\n",
       ".hoogle-code {\n",
       "display: block;\n",
       "font-family: monospace;\n",
       "white-space: pre;\n",
       "}\n",
       ".hoogle-text {\n",
       "display: block;\n",
       "}\n",
       ".hoogle-name {\n",
       "color: green;\n",
       "font-weight: bold;\n",
       "}\n",
       ".hoogle-head {\n",
       "font-weight: bold;\n",
       "}\n",
       ".hoogle-sub {\n",
       "display: block;\n",
       "margin-left: 0.4em;\n",
       "}\n",
       ".hoogle-package {\n",
       "font-weight: bold;\n",
       "font-style: italic;\n",
       "}\n",
       ".hoogle-module {\n",
       "font-weight: bold;\n",
       "}\n",
       ".hoogle-class {\n",
       "font-weight: bold;\n",
       "}\n",
       "\n",
       ".get-type {\n",
       "color: green;\n",
       "font-weight: bold;\n",
       "font-family: monospace;\n",
       "display: block;\n",
       "white-space: pre-wrap;\n",
       "}\n",
       ".show-type {\n",
       "color: green;\n",
       "font-weight: bold;\n",
       "font-family: monospace;\n",
       "margin-left: 1em;\n",
       "}\n",
       ".mono {\n",
       "font-family: monospace;\n",
       "display: block;\n",
       "}\n",
       ".err-msg {\n",
       "color: red;\n",
       "font-style: italic;\n",
       "font-family: monospace;\n",
       "white-space: pre;\n",
       "display: block;\n",
       "}\n",
       "#unshowable {\n",
       "color: red;\n",
       "font-weight: bold;\n",
       "}\n",
       ".err-msg.in.collapse {\n",
       "padding-top: 0.7em;\n",
       "}\n",
       "\n",
       ".highlight-code {\n",
       "white-space: pre;\n",
       "font-family: monospace;\n",
       "}\n",
       "\n",
       ".suggestion-warning { \n",
       "font-weight: bold;\n",
       "color: rgb(200, 130, 0);\n",
       "}\n",
       ".suggestion-error { \n",
       "font-weight: bold;\n",
       "color: red;\n",
       "}\n",
       ".suggestion-name {\n",
       "font-weight: bold;\n",
       "}\n",
       "\n",
       "</style><span class='get-type'>(==) :: forall a. MyEqual a => a -> a -> Bool</span>"
      ],
      "text/plain": [
       "(==) :: forall a. MyEqual a => a -> a -> Bool"
      ]
     },
     "metadata": {},
     "output_type": "display_data"
    }
   ],
   "source": [
    "class MyEqual a where\n",
    "    (==) :: a -> a -> Bool    -- such type must be able to be applied with operator `==`\n",
    "    (/=) :: a -> a -> Bool\n",
    "    \n",
    ":t (==)"
   ]
  },
  {
   "cell_type": "markdown",
   "id": "35bef3ae",
   "metadata": {},
   "source": [
    "* Also possible"
   ]
  },
  {
   "cell_type": "code",
   "execution_count": 6,
   "id": "cc223014",
   "metadata": {},
   "outputs": [],
   "source": [
    "class MyEqual a where\n",
    "    (==), (/=) :: a -> a -> Bool"
   ]
  },
  {
   "cell_type": "markdown",
   "id": "a29bed61",
   "metadata": {},
   "source": [
    "# Instances\n",
    "* Any type that presents itself as a delegator of interface class"
   ]
  },
  {
   "cell_type": "code",
   "execution_count": 7,
   "id": "bcd35b55",
   "metadata": {},
   "outputs": [],
   "source": [
    "instance MyEqual Bool where\n",
    "    True  == True  = True\n",
    "    False == False = True\n",
    "    _     == _     = False\n",
    "    \n",
    "    x /= y = not (x == y)"
   ]
  },
  {
   "cell_type": "code",
   "execution_count": 9,
   "id": "689a820c",
   "metadata": {},
   "outputs": [
    {
     "ename": "",
     "evalue": "",
     "output_type": "error",
     "traceback": [
      "<interactive>:2:51: error: [GHC-39999]\n    • Could not deduce ‘MyEqual' b’ arising from a use of ‘==’\n      from the context: (MyEqual a, MyEqual b) bound by the instance declaration at <interactive>:1:10-49\n      Possible fix: add (MyEqual' b) to the context of the instance declaration\n    • In the second argument of ‘(&&)’, namely ‘snd p1 == snd p2’\n      In the expression: fst p1 == fst p2 && snd p1 == snd p2\n      In an equation for ‘Ghci75.==’: p1 Ghci75.== p2 = fst p1 == fst p2 && snd p1 == snd p2\n<interactive>:2:31: error: [GHC-39999]\n    • Could not deduce ‘MyEqual' a’ arising from a use of ‘==’\n      from the context: (MyEqual a, MyEqual b) bound by the instance declaration at <interactive>:1:10-49\n      Possible fix: add (MyEqual' a) to the context of the instance declaration\n    • In the first argument of ‘(&&)’, namely ‘fst p1 == fst p2’\n      In the expression: fst p1 == fst p2 && snd p1 == snd p2\n      In an equation for ‘Ghci75.==’: p1 Ghci75.== p2 = fst p1 == fst p2 && snd p1 == snd p2"
     ]
    }
   ],
   "source": [
    "instance (MyEqual a, MyEqual b) => MyEqual (a, b) where\n",
    "    p1 == p2     =     fst p1 == fst p2 && snd p1 == snd p2"
   ]
  },
  {
   "cell_type": "markdown",
   "id": "17ae6c62",
   "metadata": {},
   "source": [
    "# Class extension\n",
    "* it's like `inhertince`, but it is `strongly an interface extend`"
   ]
  },
  {
   "cell_type": "markdown",
   "id": "2341f715",
   "metadata": {},
   "source": [
    "* class `MyOrd` **extends** class `MyEqual`\n",
    "* Now class `MyEqual` has an interface of `MyEqual` + his own"
   ]
  },
  {
   "cell_type": "code",
   "execution_count": 3,
   "id": "30dbf293",
   "metadata": {},
   "outputs": [],
   "source": [
    "class (MyEqual a) => MyOrd a where\n",
    "    (<), (<=), (>=), (>) :: a -> a -> Bool\n",
    "    max, min :: a -> a -> a"
   ]
  },
  {
   "cell_type": "markdown",
   "id": "2a16c387",
   "metadata": {},
   "source": [
    "* extends **multiple** interfaces"
   ]
  },
  {
   "cell_type": "code",
   "execution_count": null,
   "id": "95964df7",
   "metadata": {},
   "outputs": [],
   "source": [
    "class (MyEqual a, Eq a) => MyOrd0 a where\n",
    "    (<), (<=), (>=), (>) :: a -> a -> Bool"
   ]
  },
  {
   "cell_type": "markdown",
   "id": "8c4e69ce",
   "metadata": {},
   "source": [
    "# Default methods"
   ]
  },
  {
   "cell_type": "code",
   "execution_count": 8,
   "id": "6dd2764d",
   "metadata": {},
   "outputs": [
    {
     "data": {
      "text/html": [
       "<style>/* Styles used for the Hoogle display in the pager */\n",
       ".hoogle-doc {\n",
       "display: block;\n",
       "padding-bottom: 1.3em;\n",
       "padding-left: 0.4em;\n",
       "}\n",
       ".hoogle-code {\n",
       "display: block;\n",
       "font-family: monospace;\n",
       "white-space: pre;\n",
       "}\n",
       ".hoogle-text {\n",
       "display: block;\n",
       "}\n",
       ".hoogle-name {\n",
       "color: green;\n",
       "font-weight: bold;\n",
       "}\n",
       ".hoogle-head {\n",
       "font-weight: bold;\n",
       "}\n",
       ".hoogle-sub {\n",
       "display: block;\n",
       "margin-left: 0.4em;\n",
       "}\n",
       ".hoogle-package {\n",
       "font-weight: bold;\n",
       "font-style: italic;\n",
       "}\n",
       ".hoogle-module {\n",
       "font-weight: bold;\n",
       "}\n",
       ".hoogle-class {\n",
       "font-weight: bold;\n",
       "}\n",
       "\n",
       ".get-type {\n",
       "color: green;\n",
       "font-weight: bold;\n",
       "font-family: monospace;\n",
       "display: block;\n",
       "white-space: pre-wrap;\n",
       "}\n",
       ".show-type {\n",
       "color: green;\n",
       "font-weight: bold;\n",
       "font-family: monospace;\n",
       "margin-left: 1em;\n",
       "}\n",
       ".mono {\n",
       "font-family: monospace;\n",
       "display: block;\n",
       "}\n",
       ".err-msg {\n",
       "color: red;\n",
       "font-style: italic;\n",
       "font-family: monospace;\n",
       "white-space: pre;\n",
       "display: block;\n",
       "}\n",
       "#unshowable {\n",
       "color: red;\n",
       "font-weight: bold;\n",
       "}\n",
       ".err-msg.in.collapse {\n",
       "padding-top: 0.7em;\n",
       "}\n",
       "\n",
       ".highlight-code {\n",
       "white-space: pre;\n",
       "font-family: monospace;\n",
       "}\n",
       "\n",
       ".suggestion-warning { \n",
       "font-weight: bold;\n",
       "color: rgb(200, 130, 0);\n",
       "}\n",
       ".suggestion-error { \n",
       "font-weight: bold;\n",
       "color: red;\n",
       "}\n",
       ".suggestion-name {\n",
       "font-weight: bold;\n",
       "}\n",
       "\n",
       "</style><div class=\"suggestion-name\" style=\"clear:both;\">Use /=</div><div class=\"suggestion-row\" style=\"float: left;\"><div class=\"suggestion-warning\">Found:</div><div class=\"highlight-code\" id=\"haskell\">not (x == y)</div></div><div class=\"suggestion-row\" style=\"float: left;\"><div class=\"suggestion-warning\">Why Not:</div><div class=\"highlight-code\" id=\"haskell\">x /= y</div></div>"
      ],
      "text/plain": [
       "Line 4: Use /=\n",
       "Found:\n",
       "not (x == y)\n",
       "Why not:\n",
       "x /= y"
      ]
     },
     "metadata": {},
     "output_type": "display_data"
    }
   ],
   "source": [
    "class MyEqual' a where\n",
    "    (==), (/=) :: a -> a -> Bool\n",
    "    \n",
    "    x /= y = not (x == y)               -- default method\n",
    "    \n",
    "instance MyEqual' Bool where\n",
    "    True  == True  = True\n",
    "    False == False = True\n",
    "    _     == _     = False\n",
    "    -- no need to declare `/=`"
   ]
  },
  {
   "cell_type": "markdown",
   "id": "eeb6fc5e",
   "metadata": {},
   "source": [
    "# Monades\n",
    "* from greek monas - unity and monos - alone, in myth is some kind of atomic god unit or supreme being\n",
    "    * in current philosophy it's more like \"own-being\" substance\n",
    "* in programming (and pattern design) it's a concept that implies `function with effects`\n",
    "* `Optional` t, `Maybe` t, `Any` t, `Union` t1 t2 t3, `Either` t1 t2, `[t]` -> all of that have a monadic effect on wrapped object"
   ]
  },
  {
   "cell_type": "code",
   "execution_count": null,
   "id": "95555a3a",
   "metadata": {},
   "outputs": [
    {
     "data": {
      "text/html": [
       "<style>/* Styles used for the Hoogle display in the pager */\n",
       ".hoogle-doc {\n",
       "display: block;\n",
       "padding-bottom: 1.3em;\n",
       "padding-left: 0.4em;\n",
       "}\n",
       ".hoogle-code {\n",
       "display: block;\n",
       "font-family: monospace;\n",
       "white-space: pre;\n",
       "}\n",
       ".hoogle-text {\n",
       "display: block;\n",
       "}\n",
       ".hoogle-name {\n",
       "color: green;\n",
       "font-weight: bold;\n",
       "}\n",
       ".hoogle-head {\n",
       "font-weight: bold;\n",
       "}\n",
       ".hoogle-sub {\n",
       "display: block;\n",
       "margin-left: 0.4em;\n",
       "}\n",
       ".hoogle-package {\n",
       "font-weight: bold;\n",
       "font-style: italic;\n",
       "}\n",
       ".hoogle-module {\n",
       "font-weight: bold;\n",
       "}\n",
       ".hoogle-class {\n",
       "font-weight: bold;\n",
       "}\n",
       "\n",
       ".get-type {\n",
       "color: green;\n",
       "font-weight: bold;\n",
       "font-family: monospace;\n",
       "display: block;\n",
       "white-space: pre-wrap;\n",
       "}\n",
       ".show-type {\n",
       "color: green;\n",
       "font-weight: bold;\n",
       "font-family: monospace;\n",
       "margin-left: 1em;\n",
       "}\n",
       ".mono {\n",
       "font-family: monospace;\n",
       "display: block;\n",
       "}\n",
       ".err-msg {\n",
       "color: red;\n",
       "font-style: italic;\n",
       "font-family: monospace;\n",
       "white-space: pre;\n",
       "display: block;\n",
       "}\n",
       "#unshowable {\n",
       "color: red;\n",
       "font-weight: bold;\n",
       "}\n",
       ".err-msg.in.collapse {\n",
       "padding-top: 0.7em;\n",
       "}\n",
       "\n",
       ".highlight-code {\n",
       "white-space: pre;\n",
       "font-family: monospace;\n",
       "}\n",
       "\n",
       ".suggestion-warning { \n",
       "font-weight: bold;\n",
       "color: rgb(200, 130, 0);\n",
       "}\n",
       ".suggestion-error { \n",
       "font-weight: bold;\n",
       "color: red;\n",
       "}\n",
       ".suggestion-name {\n",
       "font-weight: bold;\n",
       "}\n",
       "\n",
       "</style><div class=\"suggestion-name\" style=\"clear:both;\">Eta reduce</div><div class=\"suggestion-row\" style=\"float: left;\"><div class=\"suggestion-warning\">Found:</div><div class=\"highlight-code\" id=\"haskell\">fail str = error str</div></div><div class=\"suggestion-row\" style=\"float: left;\"><div class=\"suggestion-warning\">Why Not:</div><div class=\"highlight-code\" id=\"haskell\">fail = error</div></div>"
      ],
      "text/plain": [
       "Line 7: Eta reduce\n",
       "Found:\n",
       "fail str = error str\n",
       "Why not:\n",
       "fail = error"
      ]
     },
     "metadata": {},
     "output_type": "display_data"
    }
   ],
   "source": [
    "class Monad m where\n",
    "    return :: a   ->  m a\n",
    "    (>>=)  :: m a -> (a -> m b) -> m b    -- also could be =<<\n",
    "    (>>)   :: m a -> m b -> m b  \n",
    "    \n",
    "    fail :: String -> m a\n",
    "    fail str = error str\n",
    "    \n",
    "    (<=<) :: Monad m => (b -> m c) -> (a -> m b) -> (a -> m c)"
   ]
  },
  {
   "cell_type": "markdown",
   "id": "68fc801e",
   "metadata": {},
   "source": [
    "* `return` implements a `Kleisli arrow` \n",
    "* it means that `pure` (object) could be \"packed\" into `inpure` (context)"
   ]
  },
  {
   "cell_type": "code",
   "execution_count": 2,
   "id": "cd99320b",
   "metadata": {},
   "outputs": [
    {
     "data": {
      "text/html": [
       "<style>/* Styles used for the Hoogle display in the pager */\n",
       ".hoogle-doc {\n",
       "display: block;\n",
       "padding-bottom: 1.3em;\n",
       "padding-left: 0.4em;\n",
       "}\n",
       ".hoogle-code {\n",
       "display: block;\n",
       "font-family: monospace;\n",
       "white-space: pre;\n",
       "}\n",
       ".hoogle-text {\n",
       "display: block;\n",
       "}\n",
       ".hoogle-name {\n",
       "color: green;\n",
       "font-weight: bold;\n",
       "}\n",
       ".hoogle-head {\n",
       "font-weight: bold;\n",
       "}\n",
       ".hoogle-sub {\n",
       "display: block;\n",
       "margin-left: 0.4em;\n",
       "}\n",
       ".hoogle-package {\n",
       "font-weight: bold;\n",
       "font-style: italic;\n",
       "}\n",
       ".hoogle-module {\n",
       "font-weight: bold;\n",
       "}\n",
       ".hoogle-class {\n",
       "font-weight: bold;\n",
       "}\n",
       "\n",
       ".get-type {\n",
       "color: green;\n",
       "font-weight: bold;\n",
       "font-family: monospace;\n",
       "display: block;\n",
       "white-space: pre-wrap;\n",
       "}\n",
       ".show-type {\n",
       "color: green;\n",
       "font-weight: bold;\n",
       "font-family: monospace;\n",
       "margin-left: 1em;\n",
       "}\n",
       ".mono {\n",
       "font-family: monospace;\n",
       "display: block;\n",
       "}\n",
       ".err-msg {\n",
       "color: red;\n",
       "font-style: italic;\n",
       "font-family: monospace;\n",
       "white-space: pre;\n",
       "display: block;\n",
       "}\n",
       "#unshowable {\n",
       "color: red;\n",
       "font-weight: bold;\n",
       "}\n",
       ".err-msg.in.collapse {\n",
       "padding-top: 0.7em;\n",
       "}\n",
       "\n",
       ".highlight-code {\n",
       "white-space: pre;\n",
       "font-family: monospace;\n",
       "}\n",
       "\n",
       ".suggestion-warning { \n",
       "font-weight: bold;\n",
       "color: rgb(200, 130, 0);\n",
       "}\n",
       ".suggestion-error { \n",
       "font-weight: bold;\n",
       "color: red;\n",
       "}\n",
       ".suggestion-name {\n",
       "font-weight: bold;\n",
       "}\n",
       "\n",
       "</style><div class=\"suggestion-name\" style=\"clear:both;\">Redundant lambda</div><div class=\"suggestion-row\" style=\"float: left;\"><div class=\"suggestion-warning\">Found:</div><div class=\"highlight-code\" id=\"haskell\">toKleisli f = \\ x -> return (f x)</div></div><div class=\"suggestion-row\" style=\"float: left;\"><div class=\"suggestion-warning\">Why Not:</div><div class=\"highlight-code\" id=\"haskell\">toKleisli f x = return (f x)</div></div><div class=\"suggestion-name\" style=\"clear:both;\">Avoid lambda</div><div class=\"suggestion-row\" style=\"float: left;\"><div class=\"suggestion-warning\">Found:</div><div class=\"highlight-code\" id=\"haskell\">\\ x -> return (f x)</div></div><div class=\"suggestion-row\" style=\"float: left;\"><div class=\"suggestion-warning\">Why Not:</div><div class=\"highlight-code\" id=\"haskell\">return . f</div></div>"
      ],
      "text/plain": [
       "Line 3: Redundant lambda\n",
       "Found:\n",
       "toKleisli f = \\ x -> return (f x)\n",
       "Why not:\n",
       "toKleisli f x = return (f x)Line 3: Avoid lambda\n",
       "Found:\n",
       "\\ x -> return (f x)\n",
       "Why not:\n",
       "return . f"
      ]
     },
     "metadata": {},
     "output_type": "display_data"
    }
   ],
   "source": [
    "-- example\n",
    "toKleisli :: Monad m => (a -> b) -> (a -> m b)\n",
    "toKleisli f = \\x -> return (f x)                  -- mutate input func to a monadic transfer one"
   ]
  },
  {
   "cell_type": "markdown",
   "id": "5cbbebfc",
   "metadata": {},
   "source": [
    "* operator `>>=` is a `bind` operator, it gets monadic evaluation, unwrap it and mutate to another monadic evaluation"
   ]
  },
  {
   "cell_type": "markdown",
   "id": "be17861b",
   "metadata": {},
   "source": [
    "`>>` operator doesn't fully ignore `m a`, it's default implementation is:"
   ]
  },
  {
   "cell_type": "code",
   "execution_count": 3,
   "id": "1580f009",
   "metadata": {},
   "outputs": [],
   "source": [
    "-- x >> y = x >>= \\_ -> y"
   ]
  },
  {
   "cell_type": "markdown",
   "id": "9f28c609",
   "metadata": {},
   "source": [
    "`fail` func is an operator if monadic evaluation fails, for `Maybe`, `Optional` and etc in other languages it's sth like std::nullopt "
   ]
  },
  {
   "cell_type": "markdown",
   "id": "afc05341",
   "metadata": {},
   "source": [
    "operator `<=<` is a `fish :)` operator that do `Kleisli arrows composition`"
   ]
  }
 ],
 "metadata": {
  "kernelspec": {
   "display_name": "Haskell",
   "language": "haskell",
   "name": "haskell"
  },
  "language_info": {
   "codemirror_mode": "ihaskell",
   "file_extension": ".hs",
   "mimetype": "text/x-haskell",
   "name": "haskell",
   "pygments_lexer": "Haskell",
   "version": "9.6.4"
  }
 },
 "nbformat": 4,
 "nbformat_minor": 5
}
