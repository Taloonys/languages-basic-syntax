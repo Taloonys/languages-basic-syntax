{
 "cells": [
  {
   "cell_type": "markdown",
   "metadata": {},
   "source": [
    "# Cycles<br>\n",
    "* Well.. `there are no cycles`\n",
    "* Only `Recursion` tricks"
   ]
  },
  {
   "cell_type": "markdown",
   "metadata": {},
   "source": [
    "# Recursion tricks"
   ]
  },
  {
   "cell_type": "code",
   "execution_count": 7,
   "metadata": {
    "vscode": {
     "languageId": "haskell"
    }
   },
   "outputs": [
    {
     "data": {
      "text/plain": [
       "120.0"
      ]
     },
     "metadata": {},
     "output_type": "display_data"
    }
   ],
   "source": [
    "{- basic example -}\n",
    "factorial :: Double -> Double\n",
    "factorial n = if n == 0 then 1 else n * factorial (n-1)\n",
    "factorial 5"
   ]
  },
  {
   "cell_type": "markdown",
   "metadata": {},
   "source": [
    "# Tail recursion\n",
    "* makes recursion way faster just by computing values the same time function calls itself instead of stack overflowing on function call spawns"
   ]
  },
  {
   "cell_type": "code",
   "execution_count": 8,
   "metadata": {},
   "outputs": [
    {
     "data": {
      "text/plain": [
       "139583862445"
      ]
     },
     "metadata": {},
     "output_type": "display_data"
    }
   ],
   "source": [
    "fibonacci :: Integer -> Integer\n",
    "\n",
    "go 0 (a, _) = a\n",
    "go 1 (_, b) = b\n",
    "go  n (a, b) = go  (n-1) (b, a+b)\n",
    "\n",
    "go' 0 (a, _) = a\n",
    "go' 1 (_, b) = b\n",
    "go' n (a, b) = go' (n-1) (b, a-b)\n",
    "\n",
    "fibonacci n | n > 0 = go    n  (0,  1)\n",
    "            | n < 0 = go' (-n) (0,  1)\n",
    "            \n",
    "fibonacci (-55)"
   ]
  },
  {
   "cell_type": "markdown",
   "metadata": {},
   "source": [
    "## Accumulators\n",
    "* it uses `accumulators` abstraction as passing prev calculated value to `reduce function complexity calls` from `exp` to `linear`"
   ]
  },
  {
   "cell_type": "code",
   "execution_count": 3,
   "metadata": {},
   "outputs": [
    {
     "data": {
      "text/html": [
       "<style>/* Styles used for the Hoogle display in the pager */\n",
       ".hoogle-doc {\n",
       "display: block;\n",
       "padding-bottom: 1.3em;\n",
       "padding-left: 0.4em;\n",
       "}\n",
       ".hoogle-code {\n",
       "display: block;\n",
       "font-family: monospace;\n",
       "white-space: pre;\n",
       "}\n",
       ".hoogle-text {\n",
       "display: block;\n",
       "}\n",
       ".hoogle-name {\n",
       "color: green;\n",
       "font-weight: bold;\n",
       "}\n",
       ".hoogle-head {\n",
       "font-weight: bold;\n",
       "}\n",
       ".hoogle-sub {\n",
       "display: block;\n",
       "margin-left: 0.4em;\n",
       "}\n",
       ".hoogle-package {\n",
       "font-weight: bold;\n",
       "font-style: italic;\n",
       "}\n",
       ".hoogle-module {\n",
       "font-weight: bold;\n",
       "}\n",
       ".hoogle-class {\n",
       "font-weight: bold;\n",
       "}\n",
       "\n",
       ".get-type {\n",
       "color: green;\n",
       "font-weight: bold;\n",
       "font-family: monospace;\n",
       "display: block;\n",
       "white-space: pre-wrap;\n",
       "}\n",
       ".show-type {\n",
       "color: green;\n",
       "font-weight: bold;\n",
       "font-family: monospace;\n",
       "margin-left: 1em;\n",
       "}\n",
       ".mono {\n",
       "font-family: monospace;\n",
       "display: block;\n",
       "}\n",
       ".err-msg {\n",
       "color: red;\n",
       "font-style: italic;\n",
       "font-family: monospace;\n",
       "white-space: pre;\n",
       "display: block;\n",
       "}\n",
       "#unshowable {\n",
       "color: red;\n",
       "font-weight: bold;\n",
       "}\n",
       ".err-msg.in.collapse {\n",
       "padding-top: 0.7em;\n",
       "}\n",
       "\n",
       ".highlight-code {\n",
       "white-space: pre;\n",
       "font-family: monospace;\n",
       "}\n",
       "\n",
       ".suggestion-warning { \n",
       "font-weight: bold;\n",
       "color: rgb(200, 130, 0);\n",
       "}\n",
       ".suggestion-error { \n",
       "font-weight: bold;\n",
       "color: red;\n",
       "}\n",
       ".suggestion-name {\n",
       "font-weight: bold;\n",
       "}\n",
       "\n",
       "</style><div class=\"suggestion-name\" style=\"clear:both;\">Redundant bracket</div><div class=\"suggestion-row\" style=\"float: left;\"><div class=\"suggestion-warning\">Found:</div><div class=\"highlight-code\" id=\"haskell\">(55)</div></div><div class=\"suggestion-row\" style=\"float: left;\"><div class=\"suggestion-warning\">Why Not:</div><div class=\"highlight-code\" id=\"haskell\">55</div></div>"
      ],
      "text/plain": [
       "Line 14: Redundant bracket\n",
       "Found:\n",
       "(55)\n",
       "Why not:\n",
       "55"
      ]
     },
     "metadata": {},
     "output_type": "display_data"
    },
    {
     "data": {
      "text/plain": [
       "139583862445"
      ]
     },
     "metadata": {},
     "output_type": "display_data"
    }
   ],
   "source": [
    "fibonacci :: Integer -> Integer\n",
    "\n",
    "go a b 0 = a\n",
    "go a b n = go b (a+b) (n-1)\n",
    "\n",
    "go' a b 0 = a\n",
    "go' a b n = go b (a-b) (n+1)\n",
    "\n",
    "fibonacci n | n == 0 = 0\n",
    "            | n == 1 = 1\n",
    "            | n > 0  = go  0 1 n\n",
    "            | n < 0  = go' 0 1 n\n",
    "            \n",
    "fibonacci (55)"
   ]
  },
  {
   "cell_type": "markdown",
   "metadata": {},
   "source": [
    "## Pattern mathcing<br>\n",
    "* Powerfull trick for function switching<br>"
   ]
  },
  {
   "cell_type": "code",
   "execution_count": null,
   "metadata": {
    "vscode": {
     "languageId": "haskell"
    }
   },
   "outputs": [
    {
     "data": {
      "text/plain": [
       "105"
      ]
     },
     "metadata": {},
     "output_type": "display_data"
    }
   ],
   "source": [
    "doubleFact :: Integer -> Integer\n",
    "doubleFact 1 = 1\n",
    "doubleFact 2 = 2\n",
    "doubleFact n = n * doubleFact (n-2)\n",
    "doubleFact 7"
   ]
  },
  {
   "cell_type": "markdown",
   "metadata": {},
   "source": [
    "* Not a theme, just a tip for storing states\n",
    "    * `n` control iterating (0; n] but in reversed order\n",
    "    * `prevState` would be like 1\\*n, n\\*n-1, .. etc\n",
    "* factorial straight recursion is `n^2 complexity` for function call number\n",
    "* such factorial impl has `linear complexity`"
   ]
  },
  {
   "cell_type": "code",
   "execution_count": 4,
   "metadata": {
    "vscode": {
     "languageId": "haskell"
    }
   },
   "outputs": [
    {
     "data": {
      "text/plain": [
       "24"
      ]
     },
     "metadata": {},
     "output_type": "display_data"
    }
   ],
   "source": [
    "factorialCore n 0 = n\n",
    "factorialCore prev counter = factorialCore (prev * counter) (counter - 1)\n",
    "factorial'' n | n >= 0 = factorialCore 1 n\n",
    "              | otherwise = error \"non positive\"\n",
    "              \n",
    "factorial'' 4"
   ]
  }
 ],
 "metadata": {
  "kernelspec": {
   "display_name": "Haskell",
   "language": "haskell",
   "name": "haskell"
  },
  "language_info": {
   "codemirror_mode": "ihaskell",
   "file_extension": ".hs",
   "mimetype": "text/x-haskell",
   "name": "haskell",
   "pygments_lexer": "Haskell",
   "version": "9.6.4"
  }
 },
 "nbformat": 4,
 "nbformat_minor": 2
}
