{
 "cells": [
  {
   "cell_type": "markdown",
   "id": "2985d3d2",
   "metadata": {},
   "source": [
    "# IHaskell was used for Jupyter intergity"
   ]
  },
  {
   "cell_type": "markdown",
   "id": "f69c6138",
   "metadata": {},
   "source": [
    "* [General](#General)<br>\n",
    "* [Types](#Types)<br>\n",
    "* [Functions](#Functions)<br>\n",
    "* [Operators](#Operators)<br>\n",
    "* [Conditions](#Conditions)<br>\n",
    "* [Containers](#Containers)<br>\n",
    "* [Cycles](#Cycles)<br>\n",
    "* [Error-Hanling](#Error-Hanling)<br>"
   ]
  },
  {
   "cell_type": "markdown",
   "id": "07aa78a0",
   "metadata": {},
   "source": [
    "# General <br>\n",
    "Every single \"left value\" is function. <br>\n",
    "Functions in haskell are \"clear\". So they can't have any hiden dependencies that mess the result value. <br>\n",
    "Scopes are controlled by spaces. <br>"
   ]
  },
  {
   "cell_type": "markdown",
   "id": "55da4839",
   "metadata": {},
   "source": [
    "GHC - compiler<br>\n",
    "GHCi - interpretator"
   ]
  },
  {
   "cell_type": "markdown",
   "id": "0fc5c5de",
   "metadata": {},
   "source": [
    "Some symbols like `'` are ok for names"
   ]
  },
  {
   "cell_type": "markdown",
   "id": "fe3d70ae",
   "metadata": {},
   "source": [
    "## main<br>\n",
    "* main is also a func<br>\n",
    "* when interpretator starts work, it automaticly import standard library `Prelude`"
   ]
  },
  {
   "cell_type": "code",
   "execution_count": 214,
   "id": "a17f26b4",
   "metadata": {},
   "outputs": [],
   "source": [
    "main = putStrLn \"Hello, World!\""
   ]
  },
  {
   "cell_type": "code",
   "execution_count": 215,
   "id": "9a6fc934",
   "metadata": {},
   "outputs": [
    {
     "data": {
      "text/plain": [
       "Hello, World!"
      ]
     },
     "metadata": {},
     "output_type": "display_data"
    }
   ],
   "source": [
    "main"
   ]
  },
  {
   "cell_type": "markdown",
   "id": "9ed9adbe",
   "metadata": {},
   "source": [
    "## let - is only for interpretator mode"
   ]
  },
  {
   "cell_type": "markdown",
   "id": "e0bd8024",
   "metadata": {},
   "source": [
    "This funcs are acceptable only in `interpretator mode` (jupyter/IHaskell work with it) <br>\n",
    "`let` - add func to current `interpretator` space"
   ]
  },
  {
   "cell_type": "code",
   "execution_count": 216,
   "id": "b6d65690",
   "metadata": {},
   "outputs": [],
   "source": [
    "let interpFunc = 1\n",
    "returnOne = 1"
   ]
  },
  {
   "cell_type": "code",
   "execution_count": 217,
   "id": "4a7cabc9",
   "metadata": {},
   "outputs": [
    {
     "data": {
      "text/plain": [
       "1"
      ]
     },
     "metadata": {},
     "output_type": "display_data"
    },
    {
     "data": {
      "text/plain": [
       "1"
      ]
     },
     "metadata": {},
     "output_type": "display_data"
    }
   ],
   "source": [
    "interpFunc\n",
    "returnOne"
   ]
  },
  {
   "cell_type": "markdown",
   "id": "cda7289a",
   "metadata": {},
   "source": [
    "## Comments"
   ]
  },
  {
   "cell_type": "code",
   "execution_count": 218,
   "id": "783341cb",
   "metadata": {},
   "outputs": [],
   "source": [
    "-- single-line comment\n",
    "{-\n",
    "long comment\n",
    "-}"
   ]
  },
  {
   "cell_type": "markdown",
   "id": "82b437f8",
   "metadata": {},
   "source": [
    "## Modules<br>\n",
    "* also in interpretator session you could dynamicly load any module by typing `:load <FileName>` or update it byt `:reload`<br>\n",
    "* file name should be the same as module (at least main one)<br>\n",
    "* also `import` works in interpretator mode<br>\n",
    "* documentation for standard library is `Hoogle`"
   ]
  },
  {
   "cell_type": "code",
   "execution_count": 219,
   "id": "d091d8be",
   "metadata": {},
   "outputs": [],
   "source": [
    "-- define own module\n",
    "module MyModule where\n",
    "\n",
    "-- import any module\n",
    "import Data.Char"
   ]
  },
  {
   "cell_type": "markdown",
   "id": "c0b20d8e",
   "metadata": {},
   "source": [
    "# Types<br>\n",
    "* Haskell is `staticly typed` language<br>\n",
    "* Haskell `can deduce` any types\n",
    "* Haskell has weird type-tree, it has sth like `Int` and `Integer`"
   ]
  },
  {
   "cell_type": "code",
   "execution_count": 220,
   "id": "ebd6769d",
   "metadata": {},
   "outputs": [
    {
     "data": {
      "text/html": [
       "<style>/* Styles used for the Hoogle display in the pager */\n",
       ".hoogle-doc {\n",
       "display: block;\n",
       "padding-bottom: 1.3em;\n",
       "padding-left: 0.4em;\n",
       "}\n",
       ".hoogle-code {\n",
       "display: block;\n",
       "font-family: monospace;\n",
       "white-space: pre;\n",
       "}\n",
       ".hoogle-text {\n",
       "display: block;\n",
       "}\n",
       ".hoogle-name {\n",
       "color: green;\n",
       "font-weight: bold;\n",
       "}\n",
       ".hoogle-head {\n",
       "font-weight: bold;\n",
       "}\n",
       ".hoogle-sub {\n",
       "display: block;\n",
       "margin-left: 0.4em;\n",
       "}\n",
       ".hoogle-package {\n",
       "font-weight: bold;\n",
       "font-style: italic;\n",
       "}\n",
       ".hoogle-module {\n",
       "font-weight: bold;\n",
       "}\n",
       ".hoogle-class {\n",
       "font-weight: bold;\n",
       "}\n",
       "\n",
       ".get-type {\n",
       "color: green;\n",
       "font-weight: bold;\n",
       "font-family: monospace;\n",
       "display: block;\n",
       "white-space: pre-wrap;\n",
       "}\n",
       ".show-type {\n",
       "color: green;\n",
       "font-weight: bold;\n",
       "font-family: monospace;\n",
       "margin-left: 1em;\n",
       "}\n",
       ".mono {\n",
       "font-family: monospace;\n",
       "display: block;\n",
       "}\n",
       ".err-msg {\n",
       "color: red;\n",
       "font-style: italic;\n",
       "font-family: monospace;\n",
       "white-space: pre;\n",
       "display: block;\n",
       "}\n",
       "#unshowable {\n",
       "color: red;\n",
       "font-weight: bold;\n",
       "}\n",
       ".err-msg.in.collapse {\n",
       "padding-top: 0.7em;\n",
       "}\n",
       "\n",
       ".highlight-code {\n",
       "white-space: pre;\n",
       "font-family: monospace;\n",
       "}\n",
       "\n",
       ".suggestion-warning { \n",
       "font-weight: bold;\n",
       "color: rgb(200, 130, 0);\n",
       "}\n",
       ".suggestion-error { \n",
       "font-weight: bold;\n",
       "color: red;\n",
       "}\n",
       ".suggestion-name {\n",
       "font-weight: bold;\n",
       "}\n",
       "\n",
       "</style><span class='get-type'>'c' :: Char</span>"
      ],
      "text/plain": [
       "'c' :: Char"
      ]
     },
     "metadata": {},
     "output_type": "display_data"
    },
    {
     "data": {
      "text/html": [
       "<style>/* Styles used for the Hoogle display in the pager */\n",
       ".hoogle-doc {\n",
       "display: block;\n",
       "padding-bottom: 1.3em;\n",
       "padding-left: 0.4em;\n",
       "}\n",
       ".hoogle-code {\n",
       "display: block;\n",
       "font-family: monospace;\n",
       "white-space: pre;\n",
       "}\n",
       ".hoogle-text {\n",
       "display: block;\n",
       "}\n",
       ".hoogle-name {\n",
       "color: green;\n",
       "font-weight: bold;\n",
       "}\n",
       ".hoogle-head {\n",
       "font-weight: bold;\n",
       "}\n",
       ".hoogle-sub {\n",
       "display: block;\n",
       "margin-left: 0.4em;\n",
       "}\n",
       ".hoogle-package {\n",
       "font-weight: bold;\n",
       "font-style: italic;\n",
       "}\n",
       ".hoogle-module {\n",
       "font-weight: bold;\n",
       "}\n",
       ".hoogle-class {\n",
       "font-weight: bold;\n",
       "}\n",
       "\n",
       ".get-type {\n",
       "color: green;\n",
       "font-weight: bold;\n",
       "font-family: monospace;\n",
       "display: block;\n",
       "white-space: pre-wrap;\n",
       "}\n",
       ".show-type {\n",
       "color: green;\n",
       "font-weight: bold;\n",
       "font-family: monospace;\n",
       "margin-left: 1em;\n",
       "}\n",
       ".mono {\n",
       "font-family: monospace;\n",
       "display: block;\n",
       "}\n",
       ".err-msg {\n",
       "color: red;\n",
       "font-style: italic;\n",
       "font-family: monospace;\n",
       "white-space: pre;\n",
       "display: block;\n",
       "}\n",
       "#unshowable {\n",
       "color: red;\n",
       "font-weight: bold;\n",
       "}\n",
       ".err-msg.in.collapse {\n",
       "padding-top: 0.7em;\n",
       "}\n",
       "\n",
       ".highlight-code {\n",
       "white-space: pre;\n",
       "font-family: monospace;\n",
       "}\n",
       "\n",
       ".suggestion-warning { \n",
       "font-weight: bold;\n",
       "color: rgb(200, 130, 0);\n",
       "}\n",
       ".suggestion-error { \n",
       "font-weight: bold;\n",
       "color: red;\n",
       "}\n",
       ".suggestion-name {\n",
       "font-weight: bold;\n",
       "}\n",
       "\n",
       "</style><span class='get-type'>True :: Bool</span>"
      ],
      "text/plain": [
       "True :: Bool"
      ]
     },
     "metadata": {},
     "output_type": "display_data"
    }
   ],
   "source": [
    ":type 'c'\n",
    ":t True"
   ]
  },
  {
   "cell_type": "markdown",
   "id": "ee8588d5",
   "metadata": {},
   "source": [
    "# Functions<br>\n",
    "* `x` and `y` are input args <br>\n",
    "* `negative numbers` should always be in `()` <br>\n",
    "`someFunc(-1)` <br>\n",
    "* in order to call function for one of input arguments also use `()` <br>"
   ]
  },
  {
   "cell_type": "code",
   "execution_count": 221,
   "id": "a3d9d286",
   "metadata": {},
   "outputs": [],
   "source": [
    "sumSquares x y = x^2 + y^2"
   ]
  },
  {
   "cell_type": "code",
   "execution_count": 222,
   "id": "4d8d54e7",
   "metadata": {},
   "outputs": [
    {
     "data": {
      "text/plain": [
       "13"
      ]
     },
     "metadata": {},
     "output_type": "display_data"
    }
   ],
   "source": [
    "sumSquares 2 3"
   ]
  },
  {
   "cell_type": "code",
   "execution_count": 223,
   "id": "c7df9a71",
   "metadata": {},
   "outputs": [
    {
     "data": {
      "text/plain": [
       "13"
      ]
     },
     "metadata": {},
     "output_type": "display_data"
    }
   ],
   "source": [
    "sumSquares (max 1 2) (-3)"
   ]
  },
  {
   "cell_type": "markdown",
   "id": "86f3cee5",
   "metadata": {},
   "source": [
    "## Part apply<br>\n",
    "*It's allowed to shorten func definition*"
   ]
  },
  {
   "cell_type": "markdown",
   "id": "039f7232",
   "metadata": {},
   "source": [
    "Default way"
   ]
  },
  {
   "cell_type": "code",
   "execution_count": 224,
   "id": "7664be14",
   "metadata": {},
   "outputs": [],
   "source": [
    "let max5origin x = max 5 x"
   ]
  },
  {
   "cell_type": "code",
   "execution_count": 225,
   "id": "3626199b",
   "metadata": {},
   "outputs": [
    {
     "data": {
      "text/plain": [
       "10"
      ]
     },
     "metadata": {},
     "output_type": "display_data"
    }
   ],
   "source": [
    "max5origin 10"
   ]
  },
  {
   "cell_type": "markdown",
   "id": "d346b230",
   "metadata": {},
   "source": [
    "Alternative way"
   ]
  },
  {
   "cell_type": "code",
   "execution_count": 226,
   "id": "a12c8290",
   "metadata": {},
   "outputs": [],
   "source": [
    "let max5part = max 5"
   ]
  },
  {
   "cell_type": "code",
   "execution_count": 227,
   "id": "9a62f496",
   "metadata": {},
   "outputs": [
    {
     "data": {
      "text/plain": [
       "10"
      ]
     },
     "metadata": {},
     "output_type": "display_data"
    }
   ],
   "source": [
    "max5part 10"
   ]
  },
  {
   "cell_type": "markdown",
   "id": "348c1a16",
   "metadata": {},
   "source": [
    "## Pointfree style<br>\n",
    "* It's a style that allow `reduce` some arguments<br>\n",
    "* *scheme design:*<br>\n",
    "`funcName` `most constant value` ... `less possible to input value` `totally depends on input value`"
   ]
  },
  {
   "cell_type": "code",
   "execution_count": 228,
   "id": "c8a5b9c4",
   "metadata": {},
   "outputs": [],
   "source": [
    "let translate to from text = to ++ \"::\" ++ text\n",
    "let translateFromEuToRus = translate \"Ru\" \"Eu\"\n",
    "let translateFromDeToRus = translate \"Ru\" \"De\"\n",
    "let translateToRus = translate \"Ru\""
   ]
  },
  {
   "cell_type": "code",
   "execution_count": 229,
   "id": "0c7f7ca4",
   "metadata": {},
   "outputs": [
    {
     "data": {
      "text/plain": [
       "\"Eu::my text\""
      ]
     },
     "metadata": {},
     "output_type": "display_data"
    }
   ],
   "source": [
    "translate \"Eu\" \"De\" \"my text\""
   ]
  },
  {
   "cell_type": "code",
   "execution_count": 230,
   "id": "c2199f5b",
   "metadata": {},
   "outputs": [
    {
     "data": {
      "text/plain": [
       "\"Ru::earlier eu text\""
      ]
     },
     "metadata": {},
     "output_type": "display_data"
    },
    {
     "data": {
      "text/plain": [
       "\"Ru::earlier de text\""
      ]
     },
     "metadata": {},
     "output_type": "display_data"
    }
   ],
   "source": [
    "translateFromEuToRus \"earlier eu text\"\n",
    "translateFromDeToRus \"earlier de text\""
   ]
  },
  {
   "cell_type": "code",
   "execution_count": 231,
   "id": "0b24a0ef",
   "metadata": {},
   "outputs": [
    {
     "data": {
      "text/plain": [
       "\"Ru::text\""
      ]
     },
     "metadata": {},
     "output_type": "display_data"
    }
   ],
   "source": [
    "translateToRus \"De\" \"text\""
   ]
  },
  {
   "cell_type": "markdown",
   "id": "ea439ca6",
   "metadata": {},
   "source": [
    "## In-function types"
   ]
  },
  {
   "cell_type": "code",
   "execution_count": 232,
   "id": "953d97b6",
   "metadata": {},
   "outputs": [
    {
     "data": {
      "text/plain": [
       "3"
      ]
     },
     "metadata": {},
     "output_type": "display_data"
    }
   ],
   "source": [
    "let y = 3 :: Int\n",
    "y"
   ]
  },
  {
   "cell_type": "markdown",
   "id": "56a35869",
   "metadata": {},
   "source": [
    "Haskell can deduct any type, but you also can explicitly expose it, it's a good practice just for documentation. <br>\n",
    "Last `-> T` is always return Type"
   ]
  },
  {
   "cell_type": "code",
   "execution_count": 233,
   "id": "70dd5c02",
   "metadata": {},
   "outputs": [
    {
     "data": {
      "text/plain": [
       "6.0"
      ]
     },
     "metadata": {},
     "output_type": "display_data"
    }
   ],
   "source": [
    "sum3p :: Double -> Double -> Double -> Double\n",
    "sum3p a b c = a + b + c \n",
    "sum3p 1 2 3"
   ]
  },
  {
   "cell_type": "markdown",
   "id": "bc346506",
   "metadata": {},
   "source": [
    "# Operators<br>\n",
    "* There are 2 position `infixr` & `infixl`<br> \n",
    "* infix`r` is right association, infix`l` is left. +,-... are left association and stand between numbers (for example)"
   ]
  },
  {
   "cell_type": "code",
   "execution_count": 234,
   "id": "a98f8048",
   "metadata": {},
   "outputs": [
    {
     "data": {
      "text/plain": [
       "15"
      ]
     },
     "metadata": {},
     "output_type": "display_data"
    }
   ],
   "source": [
    "5 + 10 -- inlfix '+'"
   ]
  },
  {
   "cell_type": "markdown",
   "id": "e0a8a69b",
   "metadata": {},
   "source": [
    "* Any operator could be a `func style`, its order become higher than a simple operator"
   ]
  },
  {
   "cell_type": "code",
   "execution_count": 235,
   "id": "7cb97894",
   "metadata": {},
   "outputs": [
    {
     "data": {
      "text/plain": [
       "15"
      ]
     },
     "metadata": {},
     "output_type": "display_data"
    }
   ],
   "source": [
    "(+) 5 10 -- infixr '+'"
   ]
  },
  {
   "cell_type": "markdown",
   "id": "0e9c22f8",
   "metadata": {},
   "source": [
    "* `Functions` could be converted into `prefix` by \\`\\`"
   ]
  },
  {
   "cell_type": "code",
   "execution_count": 236,
   "id": "3fb793e4",
   "metadata": {},
   "outputs": [
    {
     "data": {
      "text/plain": [
       "10"
      ]
     },
     "metadata": {},
     "output_type": "display_data"
    }
   ],
   "source": [
    "2 `max` 10"
   ]
  },
  {
   "cell_type": "markdown",
   "id": "75a6328c",
   "metadata": {},
   "source": [
    "## Define own operator<br>"
   ]
  },
  {
   "cell_type": "code",
   "execution_count": 237,
   "id": "f198b8c2",
   "metadata": {},
   "outputs": [],
   "source": [
    "infixl 6 *+*\n",
    "a *+* b = a^2 + b^2"
   ]
  },
  {
   "cell_type": "markdown",
   "id": "f7bd054f",
   "metadata": {},
   "source": [
    "`infixl` - type of operator or `associative direction` <br>\n",
    "`6` - order <br>\n",
    "`*+*` - own operator"
   ]
  },
  {
   "cell_type": "code",
   "execution_count": 238,
   "id": "f9fc25ce",
   "metadata": {},
   "outputs": [
    {
     "data": {
      "text/plain": [
       "41"
      ]
     },
     "metadata": {},
     "output_type": "display_data"
    }
   ],
   "source": [
    "5 *+* 4"
   ]
  },
  {
   "cell_type": "markdown",
   "id": "e1a7893d",
   "metadata": {},
   "source": [
    "## Operator slice"
   ]
  },
  {
   "cell_type": "code",
   "execution_count": 239,
   "id": "80306f90",
   "metadata": {},
   "outputs": [
    {
     "data": {
      "text/html": [
       "<style>/* Styles used for the Hoogle display in the pager */\n",
       ".hoogle-doc {\n",
       "display: block;\n",
       "padding-bottom: 1.3em;\n",
       "padding-left: 0.4em;\n",
       "}\n",
       ".hoogle-code {\n",
       "display: block;\n",
       "font-family: monospace;\n",
       "white-space: pre;\n",
       "}\n",
       ".hoogle-text {\n",
       "display: block;\n",
       "}\n",
       ".hoogle-name {\n",
       "color: green;\n",
       "font-weight: bold;\n",
       "}\n",
       ".hoogle-head {\n",
       "font-weight: bold;\n",
       "}\n",
       ".hoogle-sub {\n",
       "display: block;\n",
       "margin-left: 0.4em;\n",
       "}\n",
       ".hoogle-package {\n",
       "font-weight: bold;\n",
       "font-style: italic;\n",
       "}\n",
       ".hoogle-module {\n",
       "font-weight: bold;\n",
       "}\n",
       ".hoogle-class {\n",
       "font-weight: bold;\n",
       "}\n",
       "\n",
       ".get-type {\n",
       "color: green;\n",
       "font-weight: bold;\n",
       "font-family: monospace;\n",
       "display: block;\n",
       "white-space: pre-wrap;\n",
       "}\n",
       ".show-type {\n",
       "color: green;\n",
       "font-weight: bold;\n",
       "font-family: monospace;\n",
       "margin-left: 1em;\n",
       "}\n",
       ".mono {\n",
       "font-family: monospace;\n",
       "display: block;\n",
       "}\n",
       ".err-msg {\n",
       "color: red;\n",
       "font-style: italic;\n",
       "font-family: monospace;\n",
       "white-space: pre;\n",
       "display: block;\n",
       "}\n",
       "#unshowable {\n",
       "color: red;\n",
       "font-weight: bold;\n",
       "}\n",
       ".err-msg.in.collapse {\n",
       "padding-top: 0.7em;\n",
       "}\n",
       "\n",
       ".highlight-code {\n",
       "white-space: pre;\n",
       "font-family: monospace;\n",
       "}\n",
       "\n",
       ".suggestion-warning { \n",
       "font-weight: bold;\n",
       "color: rgb(200, 130, 0);\n",
       "}\n",
       ".suggestion-error { \n",
       "font-weight: bold;\n",
       "color: red;\n",
       "}\n",
       ".suggestion-name {\n",
       "font-weight: bold;\n",
       "}\n",
       "\n",
       "</style><div class=\"suggestion-name\" style=\"clear:both;\">Redundant section</div><div class=\"suggestion-row\" style=\"float: left;\"><div class=\"suggestion-warning\">Found:</div><div class=\"highlight-code\" id=\"haskell\">(2 /) 4</div></div><div class=\"suggestion-row\" style=\"float: left;\"><div class=\"suggestion-warning\">Why Not:</div><div class=\"highlight-code\" id=\"haskell\">2 / 4</div></div>"
      ],
      "text/plain": [
       "Line 1: Redundant section\n",
       "Found:\n",
       "(2 /) 4\n",
       "Why not:\n",
       "2 / 4"
      ]
     },
     "metadata": {},
     "output_type": "display_data"
    },
    {
     "data": {
      "text/plain": [
       "0.5"
      ]
     },
     "metadata": {},
     "output_type": "display_data"
    }
   ],
   "source": [
    "(2 /) 4 -- warning -- (/) 2 4\n",
    "-- 4 (/ 2) -- not always work -- (/) 4 2"
   ]
  },
  {
   "cell_type": "markdown",
   "id": "6d4d5f59",
   "metadata": {},
   "source": [
    "## Apply operator <br>\n",
    "* `$` Allow to drop brackets `()`"
   ]
  },
  {
   "cell_type": "code",
   "execution_count": 240,
   "id": "98edea72",
   "metadata": {},
   "outputs": [
    {
     "data": {
      "text/plain": [
       "1.0"
      ]
     },
     "metadata": {},
     "output_type": "display_data"
    },
    {
     "data": {
      "text/plain": [
       "1.0"
      ]
     },
     "metadata": {},
     "output_type": "display_data"
    }
   ],
   "source": [
    "sin (pi / 2)\n",
    "sin $ pi / 2"
   ]
  },
  {
   "cell_type": "markdown",
   "id": "4e0056e9",
   "metadata": {},
   "source": [
    "# Conditions<br>\n",
    "`if` block must always have `then..else`<br>\n",
    "There is no `else if...` block in language"
   ]
  },
  {
   "cell_type": "code",
   "execution_count": 241,
   "id": "f37bf879",
   "metadata": {},
   "outputs": [],
   "source": [
    "let isPositive x = if x > 0 then True else False"
   ]
  },
  {
   "cell_type": "code",
   "execution_count": 242,
   "id": "2934046c",
   "metadata": {},
   "outputs": [
    {
     "data": {
      "text/plain": [
       "True"
      ]
     },
     "metadata": {},
     "output_type": "display_data"
    }
   ],
   "source": [
    "isPositive 5"
   ]
  },
  {
   "cell_type": "markdown",
   "id": "9f6dc075",
   "metadata": {},
   "source": [
    "## Guard (expression)\n",
    "* `otherwise` is `consant`, not a keyword!\n",
    "* `otherwise = True`"
   ]
  },
  {
   "cell_type": "code",
   "execution_count": 243,
   "id": "f5e4ade0",
   "metadata": {},
   "outputs": [
    {
     "data": {
      "text/plain": [
       "True"
      ]
     },
     "metadata": {},
     "output_type": "display_data"
    }
   ],
   "source": [
    "isPositive' :: Integer -> Bool\n",
    "isPositive' x | x > 1 = True\n",
    "              | x < 0 = False\n",
    "              | x == 1 = True\n",
    "              | otherwise = error \"Is null\"\n",
    "isPositive' 10"
   ]
  },
  {
   "cell_type": "markdown",
   "id": "96e88af1",
   "metadata": {},
   "source": [
    "# Containers<br>\n",
    "* Tuple is not a container, but i would like to include it as well."
   ]
  },
  {
   "cell_type": "markdown",
   "id": "91fd202c",
   "metadata": {},
   "source": [
    "## Tuple<br>\n",
    "* `(T, U, B, F...)`"
   ]
  },
  {
   "cell_type": "code",
   "execution_count": 244,
   "id": "67c60b37",
   "metadata": {},
   "outputs": [
    {
     "data": {
      "text/html": [
       "<style>/* Styles used for the Hoogle display in the pager */\n",
       ".hoogle-doc {\n",
       "display: block;\n",
       "padding-bottom: 1.3em;\n",
       "padding-left: 0.4em;\n",
       "}\n",
       ".hoogle-code {\n",
       "display: block;\n",
       "font-family: monospace;\n",
       "white-space: pre;\n",
       "}\n",
       ".hoogle-text {\n",
       "display: block;\n",
       "}\n",
       ".hoogle-name {\n",
       "color: green;\n",
       "font-weight: bold;\n",
       "}\n",
       ".hoogle-head {\n",
       "font-weight: bold;\n",
       "}\n",
       ".hoogle-sub {\n",
       "display: block;\n",
       "margin-left: 0.4em;\n",
       "}\n",
       ".hoogle-package {\n",
       "font-weight: bold;\n",
       "font-style: italic;\n",
       "}\n",
       ".hoogle-module {\n",
       "font-weight: bold;\n",
       "}\n",
       ".hoogle-class {\n",
       "font-weight: bold;\n",
       "}\n",
       "\n",
       ".get-type {\n",
       "color: green;\n",
       "font-weight: bold;\n",
       "font-family: monospace;\n",
       "display: block;\n",
       "white-space: pre-wrap;\n",
       "}\n",
       ".show-type {\n",
       "color: green;\n",
       "font-weight: bold;\n",
       "font-family: monospace;\n",
       "margin-left: 1em;\n",
       "}\n",
       ".mono {\n",
       "font-family: monospace;\n",
       "display: block;\n",
       "}\n",
       ".err-msg {\n",
       "color: red;\n",
       "font-style: italic;\n",
       "font-family: monospace;\n",
       "white-space: pre;\n",
       "display: block;\n",
       "}\n",
       "#unshowable {\n",
       "color: red;\n",
       "font-weight: bold;\n",
       "}\n",
       ".err-msg.in.collapse {\n",
       "padding-top: 0.7em;\n",
       "}\n",
       "\n",
       ".highlight-code {\n",
       "white-space: pre;\n",
       "font-family: monospace;\n",
       "}\n",
       "\n",
       ".suggestion-warning { \n",
       "font-weight: bold;\n",
       "color: rgb(200, 130, 0);\n",
       "}\n",
       ".suggestion-error { \n",
       "font-weight: bold;\n",
       "color: red;\n",
       "}\n",
       ".suggestion-name {\n",
       "font-weight: bold;\n",
       "}\n",
       "\n",
       "</style><div class=\"suggestion-name\" style=\"clear:both;\">Evaluate</div><div class=\"suggestion-row\" style=\"float: left;\"><div class=\"suggestion-warning\">Found:</div><div class=\"highlight-code\" id=\"haskell\">fst (2, True)</div></div><div class=\"suggestion-row\" style=\"float: left;\"><div class=\"suggestion-warning\">Why Not:</div><div class=\"highlight-code\" id=\"haskell\">2</div></div><div class=\"suggestion-name\" style=\"clear:both;\">Evaluate</div><div class=\"suggestion-row\" style=\"float: left;\"><div class=\"suggestion-warning\">Found:</div><div class=\"highlight-code\" id=\"haskell\">snd (True, 'c')</div></div><div class=\"suggestion-row\" style=\"float: left;\"><div class=\"suggestion-warning\">Why Not:</div><div class=\"highlight-code\" id=\"haskell\">'c'</div></div>"
      ],
      "text/plain": [
       "Line 2: Evaluate\n",
       "Found:\n",
       "fst (2, True)\n",
       "Why not:\n",
       "2Line 3: Evaluate\n",
       "Found:\n",
       "snd (True, 'c')\n",
       "Why not:\n",
       "'c'"
      ]
     },
     "metadata": {},
     "output_type": "display_data"
    },
    {
     "data": {
      "text/plain": [
       "(2,True,'c')"
      ]
     },
     "metadata": {},
     "output_type": "display_data"
    },
    {
     "data": {
      "text/plain": [
       "2"
      ]
     },
     "metadata": {},
     "output_type": "display_data"
    },
    {
     "data": {
      "text/plain": [
       "'c'"
      ]
     },
     "metadata": {},
     "output_type": "display_data"
    }
   ],
   "source": [
    "(2, True, 'c')\n",
    "fst (2, True)    -- warning ofc\n",
    "snd (True, 'c')  -- warning ofc"
   ]
  },
  {
   "cell_type": "markdown",
   "id": "67df094c",
   "metadata": {},
   "source": [
    "## List<br>\n",
    "* `[T1, T2, T3 ...]`"
   ]
  },
  {
   "cell_type": "code",
   "execution_count": 245,
   "id": "312908ae",
   "metadata": {},
   "outputs": [
    {
     "data": {
      "text/plain": [
       "[1,2,3]"
      ]
     },
     "metadata": {},
     "output_type": "display_data"
    }
   ],
   "source": [
    "[1, 2, 3]"
   ]
  },
  {
   "cell_type": "code",
   "execution_count": 246,
   "id": "86ce3c61",
   "metadata": {},
   "outputs": [
    {
     "data": {
      "text/html": [
       "<style>/* Styles used for the Hoogle display in the pager */\n",
       ".hoogle-doc {\n",
       "display: block;\n",
       "padding-bottom: 1.3em;\n",
       "padding-left: 0.4em;\n",
       "}\n",
       ".hoogle-code {\n",
       "display: block;\n",
       "font-family: monospace;\n",
       "white-space: pre;\n",
       "}\n",
       ".hoogle-text {\n",
       "display: block;\n",
       "}\n",
       ".hoogle-name {\n",
       "color: green;\n",
       "font-weight: bold;\n",
       "}\n",
       ".hoogle-head {\n",
       "font-weight: bold;\n",
       "}\n",
       ".hoogle-sub {\n",
       "display: block;\n",
       "margin-left: 0.4em;\n",
       "}\n",
       ".hoogle-package {\n",
       "font-weight: bold;\n",
       "font-style: italic;\n",
       "}\n",
       ".hoogle-module {\n",
       "font-weight: bold;\n",
       "}\n",
       ".hoogle-class {\n",
       "font-weight: bold;\n",
       "}\n",
       "\n",
       ".get-type {\n",
       "color: green;\n",
       "font-weight: bold;\n",
       "font-family: monospace;\n",
       "display: block;\n",
       "white-space: pre-wrap;\n",
       "}\n",
       ".show-type {\n",
       "color: green;\n",
       "font-weight: bold;\n",
       "font-family: monospace;\n",
       "margin-left: 1em;\n",
       "}\n",
       ".mono {\n",
       "font-family: monospace;\n",
       "display: block;\n",
       "}\n",
       ".err-msg {\n",
       "color: red;\n",
       "font-style: italic;\n",
       "font-family: monospace;\n",
       "white-space: pre;\n",
       "display: block;\n",
       "}\n",
       "#unshowable {\n",
       "color: red;\n",
       "font-weight: bold;\n",
       "}\n",
       ".err-msg.in.collapse {\n",
       "padding-top: 0.7em;\n",
       "}\n",
       "\n",
       ".highlight-code {\n",
       "white-space: pre;\n",
       "font-family: monospace;\n",
       "}\n",
       "\n",
       ".suggestion-warning { \n",
       "font-weight: bold;\n",
       "color: rgb(200, 130, 0);\n",
       "}\n",
       ".suggestion-error { \n",
       "font-weight: bold;\n",
       "color: red;\n",
       "}\n",
       ".suggestion-name {\n",
       "font-weight: bold;\n",
       "}\n",
       "\n",
       "</style><span class='get-type'>\"asd\" :: String</span>"
      ],
      "text/plain": [
       "\"asd\" :: String"
      ]
     },
     "metadata": {},
     "output_type": "display_data"
    },
    {
     "data": {
      "text/html": [
       "<style>/* Styles used for the Hoogle display in the pager */\n",
       ".hoogle-doc {\n",
       "display: block;\n",
       "padding-bottom: 1.3em;\n",
       "padding-left: 0.4em;\n",
       "}\n",
       ".hoogle-code {\n",
       "display: block;\n",
       "font-family: monospace;\n",
       "white-space: pre;\n",
       "}\n",
       ".hoogle-text {\n",
       "display: block;\n",
       "}\n",
       ".hoogle-name {\n",
       "color: green;\n",
       "font-weight: bold;\n",
       "}\n",
       ".hoogle-head {\n",
       "font-weight: bold;\n",
       "}\n",
       ".hoogle-sub {\n",
       "display: block;\n",
       "margin-left: 0.4em;\n",
       "}\n",
       ".hoogle-package {\n",
       "font-weight: bold;\n",
       "font-style: italic;\n",
       "}\n",
       ".hoogle-module {\n",
       "font-weight: bold;\n",
       "}\n",
       ".hoogle-class {\n",
       "font-weight: bold;\n",
       "}\n",
       "\n",
       ".get-type {\n",
       "color: green;\n",
       "font-weight: bold;\n",
       "font-family: monospace;\n",
       "display: block;\n",
       "white-space: pre-wrap;\n",
       "}\n",
       ".show-type {\n",
       "color: green;\n",
       "font-weight: bold;\n",
       "font-family: monospace;\n",
       "margin-left: 1em;\n",
       "}\n",
       ".mono {\n",
       "font-family: monospace;\n",
       "display: block;\n",
       "}\n",
       ".err-msg {\n",
       "color: red;\n",
       "font-style: italic;\n",
       "font-family: monospace;\n",
       "white-space: pre;\n",
       "display: block;\n",
       "}\n",
       "#unshowable {\n",
       "color: red;\n",
       "font-weight: bold;\n",
       "}\n",
       ".err-msg.in.collapse {\n",
       "padding-top: 0.7em;\n",
       "}\n",
       "\n",
       ".highlight-code {\n",
       "white-space: pre;\n",
       "font-family: monospace;\n",
       "}\n",
       "\n",
       ".suggestion-warning { \n",
       "font-weight: bold;\n",
       "color: rgb(200, 130, 0);\n",
       "}\n",
       ".suggestion-error { \n",
       "font-weight: bold;\n",
       "color: red;\n",
       "}\n",
       ".suggestion-name {\n",
       "font-weight: bold;\n",
       "}\n",
       "\n",
       "</style><span class='get-type'>['a', 's', 'd'] :: [Char]</span>"
      ],
      "text/plain": [
       "['a', 's', 'd'] :: [Char]"
      ]
     },
     "metadata": {},
     "output_type": "display_data"
    }
   ],
   "source": [
    ":t \"asd\"\n",
    ":t ['a', 's', 'd']"
   ]
  },
  {
   "cell_type": "code",
   "execution_count": 247,
   "id": "389e70d5",
   "metadata": {},
   "outputs": [
    {
     "data": {
      "text/plain": [
       "\"Hello\""
      ]
     },
     "metadata": {},
     "output_type": "display_data"
    }
   ],
   "source": [
    "'H' : \"ello\"       -- append to HEAD"
   ]
  },
  {
   "cell_type": "code",
   "execution_count": 248,
   "id": "696dd87a",
   "metadata": {},
   "outputs": [
    {
     "data": {
      "text/plain": [
       "\"Hello\""
      ]
     },
     "metadata": {},
     "output_type": "display_data"
    }
   ],
   "source": [
    "\"Hel\" ++ \"lo\"      -- list concatenation"
   ]
  },
  {
   "cell_type": "markdown",
   "id": "41b50877",
   "metadata": {},
   "source": [
    "# Cycles<br>\n",
    "* Well.. `there are no cycles`\n",
    "* Only `Recursion` tricks"
   ]
  },
  {
   "cell_type": "code",
   "execution_count": 249,
   "id": "5f446679",
   "metadata": {},
   "outputs": [
    {
     "data": {
      "text/plain": [
       "120.0"
      ]
     },
     "metadata": {},
     "output_type": "display_data"
    }
   ],
   "source": [
    "{- basic example -}\n",
    "factorial :: Double -> Double\n",
    "factorial n = if n == 0 then 1 else n * factorial (n-1)\n",
    "factorial 5"
   ]
  },
  {
   "cell_type": "markdown",
   "id": "643f115b",
   "metadata": {},
   "source": [
    "## Pattern mathcing<br>\n",
    "* Powerfull trick for function switching<br>"
   ]
  },
  {
   "cell_type": "code",
   "execution_count": 250,
   "id": "a403467c",
   "metadata": {},
   "outputs": [
    {
     "data": {
      "text/plain": [
       "105"
      ]
     },
     "metadata": {},
     "output_type": "display_data"
    }
   ],
   "source": [
    "doubleFact :: Integer -> Integer\n",
    "doubleFact 1 = 1\n",
    "doubleFact 2 = 2\n",
    "doubleFact n = n * doubleFact (n-2)\n",
    "doubleFact 7"
   ]
  },
  {
   "cell_type": "markdown",
   "id": "0675c9b4",
   "metadata": {},
   "source": [
    "* Not a theme, just a tip for storing states\n",
    "    * `n` control iterating (0; n] but in reversed order\n",
    "    * `prevState` would be like 1\\*n, n\\*n-1, .. etc\n",
    "* factorial straight recursion is `n^2 complexity` for function call number\n",
    "* such factorial impl has `linear complexity`"
   ]
  },
  {
   "cell_type": "code",
   "execution_count": 251,
   "id": "8b6714db",
   "metadata": {},
   "outputs": [],
   "source": [
    "factorialCore n 0 = n\n",
    "factorialCore prev counter = factorialCore (prev * counter) (counter - 1)\n",
    "factorial'' n | n >= 0 = factorialCore 1 n\n",
    "              | otherwise = error \"non positive\""
   ]
  },
  {
   "cell_type": "code",
   "execution_count": 252,
   "id": "34483704",
   "metadata": {},
   "outputs": [
    {
     "data": {
      "text/plain": [
       "24"
      ]
     },
     "metadata": {},
     "output_type": "display_data"
    }
   ],
   "source": [
    "factorial'' 4"
   ]
  },
  {
   "cell_type": "markdown",
   "id": "f0a4b98c",
   "metadata": {},
   "source": [
    "# Error-Hanling"
   ]
  },
  {
   "cell_type": "code",
   "execution_count": 253,
   "id": "1f1cd655",
   "metadata": {},
   "outputs": [
    {
     "ename": "",
     "evalue": "",
     "output_type": "error",
     "traceback": [
      "AnyText\nCallStack (from HasCallStack):\n  error, called at <interactive>:1:1 in interactive:Ghci1208"
     ]
    }
   ],
   "source": [
    "error \"AnyText\""
   ]
  },
  {
   "cell_type": "code",
   "execution_count": null,
   "id": "4ad70b6e",
   "metadata": {},
   "outputs": [
    {
     "ename": "",
     "evalue": "",
     "output_type": "error",
     "traceback": [
      "Prelude.undefined\nCallStack (from HasCallStack):\n  undefined, called at <interactive>:1:1 in interactive:Ghci1224"
     ]
    }
   ],
   "source": [
    "undefined"
   ]
  },
  {
   "cell_type": "code",
   "execution_count": null,
   "id": "f7890af3",
   "metadata": {},
   "outputs": [],
   "source": []
  }
 ],
 "metadata": {
  "kernelspec": {
   "display_name": "Haskell",
   "language": "haskell",
   "name": "haskell"
  },
  "language_info": {
   "codemirror_mode": "ihaskell",
   "file_extension": ".hs",
   "mimetype": "text/x-haskell",
   "name": "haskell",
   "pygments_lexer": "Haskell",
   "version": "9.6.4"
  }
 },
 "nbformat": 4,
 "nbformat_minor": 5
}
