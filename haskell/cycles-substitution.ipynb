{
 "cells": [
  {
   "cell_type": "markdown",
   "metadata": {},
   "source": [
    "# Cycles<br>\n",
    "* Well.. `there are no cycles`\n",
    "* Only `Recursion` tricks"
   ]
  },
  {
   "cell_type": "code",
   "execution_count": null,
   "metadata": {
    "vscode": {
     "languageId": "haskell"
    }
   },
   "outputs": [
    {
     "data": {
      "text/plain": [
       "120.0"
      ]
     },
     "metadata": {},
     "output_type": "display_data"
    }
   ],
   "source": [
    "{- basic example -}\n",
    "factorial :: Double -> Double\n",
    "factorial n = if n == 0 then 1 else n * factorial (n-1)\n",
    "factorial 5"
   ]
  },
  {
   "cell_type": "markdown",
   "metadata": {},
   "source": [
    "## Pattern mathcing<br>\n",
    "* Powerfull trick for function switching<br>"
   ]
  },
  {
   "cell_type": "code",
   "execution_count": null,
   "metadata": {
    "vscode": {
     "languageId": "haskell"
    }
   },
   "outputs": [
    {
     "data": {
      "text/plain": [
       "105"
      ]
     },
     "metadata": {},
     "output_type": "display_data"
    }
   ],
   "source": [
    "doubleFact :: Integer -> Integer\n",
    "doubleFact 1 = 1\n",
    "doubleFact 2 = 2\n",
    "doubleFact n = n * doubleFact (n-2)\n",
    "doubleFact 7"
   ]
  },
  {
   "cell_type": "markdown",
   "metadata": {},
   "source": [
    "* Not a theme, just a tip for storing states\n",
    "    * `n` control iterating (0; n] but in reversed order\n",
    "    * `prevState` would be like 1\\*n, n\\*n-1, .. etc\n",
    "* factorial straight recursion is `n^2 complexity` for function call number\n",
    "* such factorial impl has `linear complexity`"
   ]
  },
  {
   "cell_type": "code",
   "execution_count": null,
   "metadata": {
    "vscode": {
     "languageId": "haskell"
    }
   },
   "outputs": [],
   "source": [
    "factorialCore n 0 = n\n",
    "factorialCore prev counter = factorialCore (prev * counter) (counter - 1)\n",
    "factorial'' n | n >= 0 = factorialCore 1 n\n",
    "              | otherwise = error \"non positive\""
   ]
  },
  {
   "cell_type": "code",
   "execution_count": null,
   "metadata": {
    "vscode": {
     "languageId": "haskell"
    }
   },
   "outputs": [
    {
     "data": {
      "text/plain": [
       "24"
      ]
     },
     "metadata": {},
     "output_type": "display_data"
    }
   ],
   "source": [
    "factorial'' 4"
   ]
  }
 ],
 "metadata": {
  "language_info": {
   "name": "python"
  }
 },
 "nbformat": 4,
 "nbformat_minor": 2
}
