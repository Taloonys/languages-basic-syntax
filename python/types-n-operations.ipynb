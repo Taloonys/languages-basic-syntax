{
 "cells": [
  {
   "cell_type": "markdown",
   "metadata": {},
   "source": [
    "# Types and operations"
   ]
  },
  {
   "cell_type": "markdown",
   "metadata": {},
   "source": [
    "- Every single \"instance\" (even pure values) are objects"
   ]
  },
  {
   "cell_type": "code",
   "execution_count": null,
   "metadata": {},
   "outputs": [],
   "source": [
    "\n",
    "a = 5\n",
    "b = a"
   ]
  },
  {
   "cell_type": "markdown",
   "metadata": {},
   "source": [
    "`a` - object -> points on `5` <br>\n",
    "`b` - object -> points on the same object as `a` -> points on `5` <br>\n",
    "`5` - object -> even being a pure value"
   ]
  },
  {
   "cell_type": "markdown",
   "metadata": {},
   "source": [
    "- Every single object has it's own unique identificator in virtual space, in python it's ID\n",
    "- As compilers optimise in other languages, in python constant equal objects has the same ID (also it's the same instance basicly)"
   ]
  },
  {
   "cell_type": "code",
   "execution_count": null,
   "metadata": {},
   "outputs": [
    {
     "data": {
      "text/plain": [
       "True"
      ]
     },
     "metadata": {},
     "output_type": "display_data"
    }
   ],
   "source": [
    "id(b) == id(a)                  # -> False, a and b are not the same (and/or) constant objects\n",
    "a is b                          # -> True, both points at 4"
   ]
  },
  {
   "cell_type": "markdown",
   "metadata": {},
   "source": [
    "- Garbage collection in python works in pretty common way -> *shared objects logic* <br>\n",
    "This mechanics feature is *reference counting*, also it can resolve cycle referencing."
   ]
  },
  {
   "cell_type": "markdown",
   "metadata": {},
   "source": [
    "References were: `b` -> `a` -> `5` "
   ]
  },
  {
   "cell_type": "code",
   "execution_count": null,
   "metadata": {},
   "outputs": [],
   "source": [
    "del a                           "
   ]
  },
  {
   "cell_type": "markdown",
   "metadata": {},
   "source": [
    "Now: `b` -> `5`"
   ]
  },
  {
   "cell_type": "code",
   "execution_count": null,
   "metadata": {},
   "outputs": [
    {
     "name": "stdout",
     "output_type": "stream",
     "text": [
      "{55}\n"
     ]
    }
   ],
   "source": [
    "\n",
    "text_1 = 'text'\n",
    "text_2 = \"Is not = isn't\"       # \"\" ~ '', but such cases requires \"\"\n",
    "\n",
    "print({a:=55})                  # := is walrus operator that returns assigned value\n",
    "\n",
    "x, y, z = 1, 2, 3               # [Feature]\n",
    "\n",
    "type(1)                         # int\n",
    "\n",
    "bool_value = True or (False and True)\n",
    "\n",
    "complex_number = 1 + 4j\n",
    "\n",
    "annotation_value: int = 5       # strong typisation\n",
    "annot_lst: list[int] = [1, 2, 3]"
   ]
  },
  {
   "cell_type": "markdown",
   "metadata": {},
   "source": [
    "## None-type"
   ]
  },
  {
   "cell_type": "code",
   "execution_count": null,
   "metadata": {},
   "outputs": [],
   "source": [
    "none_object = None\n",
    "None == None    # True\n",
    "None or True    # True\n",
    "# 5 * None      # error\n",
    "\n",
    "if none_object is None:                 # prefer is-checking instead of == or !=\n",
    "    pass"
   ]
  },
  {
   "cell_type": "markdown",
   "metadata": {},
   "source": [
    "# Some math moments"
   ]
  },
  {
   "cell_type": "code",
   "execution_count": null,
   "metadata": {},
   "outputs": [],
   "source": [
    "5 // 2              # = 2\n",
    "5 % 2               # = 1\n",
    "\n",
    "pow(2, 4) == 2 ** 4     # 2^4\n",
    "abs(-2)\n",
    "sum((1, 2, 3))\n",
    "min(54, 2346, 234, 6)\n",
    "\n",
    "import math\n",
    "math.sqrt(2)\n",
    "math.sin(10)\n",
    "\n",
    "math.trunc(1.4)             # move current val to 0  -> 1\n",
    "math.floor(-5.2)            # move to lowest integer -> -5\n",
    "round(1.5)                  # standart round         -> 2"
   ]
  }
 ],
 "metadata": {
  "language_info": {
   "name": "python"
  }
 },
 "nbformat": 4,
 "nbformat_minor": 2
}
