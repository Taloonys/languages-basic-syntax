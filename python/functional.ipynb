{
 "cells": [
  {
   "cell_type": "markdown",
   "metadata": {},
   "source": [
    "# Functional"
   ]
  },
  {
   "cell_type": "markdown",
   "metadata": {},
   "source": [
    "\n",
    "Functions are also object, they are also symbol links"
   ]
  },
  {
   "cell_type": "markdown",
   "metadata": {},
   "source": [
    "## functions and kwords"
   ]
  },
  {
   "cell_type": "code",
   "execution_count": null,
   "metadata": {},
   "outputs": [],
   "source": [
    "def function(arg1, arg2=None):                  # arg1 & arg2 are symbol links -> they are REFERENCES, arg2 - has default param\n",
    "    pass\n",
    "\n",
    "function(arg1=5)                                # [Feature] function call, arg1 - used as keyword"
   ]
  },
  {
   "cell_type": "markdown",
   "metadata": {},
   "source": [
    "## variadic and kwargs"
   ]
  },
  {
   "cell_type": "code",
   "execution_count": null,
   "metadata": {},
   "outputs": [],
   "source": [
    "def VarArgFunction(*args, a):                 # args as var-arg - args here - TUPLE\n",
    "    pass\n",
    "\n",
    "VarArgFunction(1, 4, 5, 2, 3, 5, 6, 7, a=2)\n",
    "\n",
    "\n",
    "def VarArgFunction(a, *args, **kwargs):                                             # [Feature] kwargs here - DICTIONARY\n",
    "    pass\n",
    "\n",
    "VarArgFunction(5, *(1,2,3,4,5,6), **{'1': 'One', '2': 'Two', '3': 'Three'})         # could not write a=5"
   ]
  },
  {
   "cell_type": "markdown",
   "metadata": {},
   "source": [
    "### restricting kwargs\n",
    "* `positional args` - like `func(1, 2, 3)`\n",
    "* `kword args` - like `func(param1 = 1, param2 = 2)`"
   ]
  },
  {
   "cell_type": "markdown",
   "metadata": {},
   "source": [
    "def func (`positional only args`, `/`, `positional or kword args`, `*`, `only kword ags`)"
   ]
  },
  {
   "cell_type": "code",
   "execution_count": null,
   "metadata": {},
   "outputs": [],
   "source": [
    "def PositionSpecificationFunction(pos1, pos2, /, pos_or_kword, *, kword1, kword2): \n",
    "    pass\n",
    "\n",
    "PositionSpecificationFunction(1, 2,                         # position only params\n",
    "                              5,                            # allow either position param or keyword\n",
    "                              kword_only_param1=4,          # only keyword param\n",
    "                              kword_only_param2=10)         # only keyword param\n",
    "\n",
    "PositionSpecificationFunction(1, 2,                         # position only params\n",
    "                              pos_or_kword_param=5,         # allow either position param or keyword\n",
    "                              kword_only_param1=4,          # only keyword param\n",
    "                              kword_only_param2=10)         # only keyword param"
   ]
  },
  {
   "cell_type": "markdown",
   "metadata": {},
   "source": [
    "* error cases"
   ]
  },
  {
   "cell_type": "code",
   "execution_count": null,
   "metadata": {},
   "outputs": [],
   "source": [
    "PositionSpecificationFunction(1, pos_or_kword=2, \n",
    "                              5, \n",
    "                              kword1=4, \n",
    "                              kword2=10)      # error\n",
    "\n",
    "PositionSpecificationFunction(1, pos_or_kword=2, 5, 4, 10)      # error"
   ]
  },
  {
   "cell_type": "markdown",
   "metadata": {},
   "source": [
    "## scope \"tricks\""
   ]
  },
  {
   "cell_type": "code",
   "execution_count": null,
   "metadata": {},
   "outputs": [],
   "source": [
    "to_glob_var = 10\n",
    "def Func():\n",
    "    global to_glob_var                      # \"capture\" for global space value\n",
    "    to_glob_var += 1\n",
    "\n",
    "def Func1():\n",
    "    a = 10\n",
    "    def FuncInner():\n",
    "        nonlocal a                          # \"capture\" value from not local scope (1 scope higher)\n",
    "        a += 100"
   ]
  },
  {
   "cell_type": "markdown",
   "metadata": {},
   "source": [
    "## strong typing"
   ]
  },
  {
   "cell_type": "code",
   "execution_count": null,
   "metadata": {},
   "outputs": [],
   "source": [
    "def StrongTypeFunc(obj: str, *args: int, **kwargs: float) -> None:\n",
    "    pass"
   ]
  },
  {
   "cell_type": "markdown",
   "metadata": {},
   "source": [
    "# Lambda\n",
    "* cannot capture"
   ]
  },
  {
   "cell_type": "code",
   "execution_count": null,
   "metadata": {},
   "outputs": [],
   "source": [
    "lambda_sqrt = lambda x: x ** 2              # input -> x, execution block -> x ** 2"
   ]
  },
  {
   "cell_type": "markdown",
   "metadata": {},
   "source": [
    "# yield\n",
    "* return-like keyword\n",
    "* after triggered once -> ignored in the next call/iteration\n",
    "* could `store a state` that is passed to `yeild`"
   ]
  },
  {
   "cell_type": "code",
   "execution_count": null,
   "metadata": {},
   "outputs": [],
   "source": [
    "def my_range(n):                            # -> First entry 0 1 2 3 4 5 ...    - depends on n input\n",
    "    yield 'First entry'                     # would be triggered at 1-st call\n",
    "\n",
    "    i = -1\n",
    "    while i < n:\n",
    "        i += 1\n",
    "        yield i                            # wille be triggered at i = 1, than at i = 2, and etc -> state storing"
   ]
  }
 ],
 "metadata": {
  "language_info": {
   "name": "python"
  }
 },
 "nbformat": 4,
 "nbformat_minor": 2
}
