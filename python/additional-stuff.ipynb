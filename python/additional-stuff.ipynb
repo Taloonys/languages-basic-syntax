{
 "cells": [
  {
   "cell_type": "markdown",
   "metadata": {},
   "source": [
    "# Attributes"
   ]
  },
  {
   "cell_type": "markdown",
   "metadata": {},
   "source": [
    "\n",
    "Some special params or methods, that should not be public, but are helpfull sometimes"
   ]
  },
  {
   "cell_type": "code",
   "execution_count": 29,
   "metadata": {},
   "outputs": [
    {
     "name": "stdout",
     "output_type": "stream",
     "text": [
      "['__abs__', '__add__', '__and__', '__bool__']\n",
      "some\n"
     ]
    }
   ],
   "source": [
    "\n",
    "print(dir(5)[:4])                   # special attributes are __magic_field__\n",
    "\n",
    "class Cls:\n",
    "    pass\n",
    "\n",
    "cls = Cls()\n",
    "\n",
    "setattr(cls, 'some_attr', 'some')   # add attribute\n",
    "\n",
    "print(getattr(cls, 'some_attr'))\n",
    "\n",
    "delattr(cls, 'some_attr')           # delete attribute\n",
    "\n",
    "#print(getattr(cls, 'some_attr'))   # error"
   ]
  },
  {
   "cell_type": "markdown",
   "metadata": {},
   "source": [
    "# Typing stuff"
   ]
  },
  {
   "cell_type": "code",
   "execution_count": 32,
   "metadata": {},
   "outputs": [],
   "source": [
    "\n",
    "from typing import Union, Any, Optional\n",
    "\n",
    "def FuncUnion(x: Union[list[int], set[int]]) -> None: ...       # could get x as list[int] or as set[int]\n",
    "\n",
    "def FuncAny(x: Any) -> None: x.nothing()                        # less checks than dynamic typing\n",
    "\n",
    "def FuncOptional(x: Optional[list[int]]) -> None: ...           # x as None or list[int]"
   ]
  },
  {
   "cell_type": "markdown",
   "metadata": {},
   "source": [
    "# Generics"
   ]
  },
  {
   "cell_type": "code",
   "execution_count": 33,
   "metadata": {},
   "outputs": [
    {
     "data": {
      "text/plain": [
       "False"
      ]
     },
     "execution_count": 33,
     "metadata": {},
     "output_type": "execute_result"
    }
   ],
   "source": [
    "\n",
    "from typing import Generic, TypeVar\n",
    "\n",
    "T = TypeVar('T')                                                # Ref to type\n",
    "\n",
    "class Stack(Generic[T]):\n",
    "    def __init__(self):\n",
    "        self.items: list[T] = []\n",
    "\n",
    "    def push(self, item: T):\n",
    "        self.items.append(item)\n",
    "\n",
    "\n",
    "from typing import Callable                                             # Protocols are like concepts\n",
    "\n",
    "def ProtocolFunc(f: Callable[[int, int], bool]) -> bool:                # f should be func with signature - func(int, int) -> bool ~~ f should have __call__ and could be called in such extent\n",
    "    return f(1,2)\n",
    "\n",
    "ProtocolFunc(lambda x, y: x == y)"
   ]
  }
 ],
 "metadata": {
  "kernelspec": {
   "display_name": "Python 3",
   "language": "python",
   "name": "python3"
  },
  "language_info": {
   "codemirror_mode": {
    "name": "ipython",
    "version": 3
   },
   "file_extension": ".py",
   "mimetype": "text/x-python",
   "name": "python",
   "nbconvert_exporter": "python",
   "pygments_lexer": "ipython3",
   "version": "3.12.6"
  }
 },
 "nbformat": 4,
 "nbformat_minor": 2
}
