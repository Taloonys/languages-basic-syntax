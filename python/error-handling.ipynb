{
 "cells": [
  {
   "cell_type": "markdown",
   "metadata": {},
   "source": [
    "# Throw, try-catch"
   ]
  },
  {
   "cell_type": "code",
   "execution_count": null,
   "metadata": {},
   "outputs": [],
   "source": [
    "try:\n",
    "    pass\n",
    "except ValueError:\n",
    "    raise                           # ~ throw -> here raise is like passing error further (for example, to next except: block)\n",
    "except RuntimeError as error:\n",
    "    raise LookupError from error    # could pass further with keeping previous exceptions\n",
    "except:                             # catch any exception\n",
    "    pass\n",
    "else:                               # if no exception\n",
    "    pass\n",
    "finally:                            # would be called anyway eventually\n",
    "    pass"
   ]
  }
 ],
 "metadata": {
  "language_info": {
   "name": "python"
  }
 },
 "nbformat": 4,
 "nbformat_minor": 2
}
