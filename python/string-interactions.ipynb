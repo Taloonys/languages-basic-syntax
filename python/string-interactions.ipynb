{
 "cells": [
  {
   "cell_type": "markdown",
   "metadata": {},
   "source": [
    "# String interactions"
   ]
  },
  {
   "cell_type": "code",
   "execution_count": null,
   "metadata": {},
   "outputs": [],
   "source": [
    "dummy_text = 'abcdefg'  # operations bellow will NOT MODIFY dummy_text\n",
    "dummy_text[-1]          # bound jumping             -> 'g'"
   ]
  },
  {
   "cell_type": "markdown",
   "metadata": {},
   "source": [
    "## [Feature-like] Formatting"
   ]
  },
  {
   "cell_type": "code",
   "execution_count": null,
   "metadata": {},
   "outputs": [],
   "source": [
    "\n",
    "dummy_text = \"qw{}ty\".format('er')                      # 'qwerty'\n",
    "\n",
    "'x = %d, y = %d' % (10, 11.5)\n",
    "\n",
    "'x = {1}, y = {0}'.format(000, 111)                     # 'x = 111, y = 000'\n",
    "\n",
    "f'x = {10}, y = {20}'                                   # 'x = 10, y = 20'\n",
    "\n",
    "'x = {val1:f}, y = {val2:f}'.format(val1=10, val2=20)\n",
    "\n",
    "f'{dummy_text=}, also dummy_text is {dummy_text}'       # 'dummy_text=qwerty, also dummy text is qwerty'"
   ]
  },
  {
   "cell_type": "markdown",
   "metadata": {},
   "source": [
    "## Slicing"
   ]
  },
  {
   "cell_type": "code",
   "execution_count": null,
   "metadata": {},
   "outputs": [],
   "source": [
    "dummy_text[0: 3]        # slicing [0, 3)            -> 'abc'    \n",
    "dummy_text[:3]          # slicing [0, 3]            -> 'abc'\n",
    "dummy_text[slice(1,3)]  # slicing (1, 3)            -> 'bc'\n",
    "dummy_text[:10:2]       # till 10 pos with step 2   -> 'aceg'\n",
    "dummy_text[::-1]        # reverse                   -> 'gfedcba'\n",
    "dummy_text[::-2]        # reverse, but 1/2"
   ]
  }
 ],
 "metadata": {
  "language_info": {
   "name": "python"
  }
 },
 "nbformat": 4,
 "nbformat_minor": 2
}
