{
 "cells": [
  {
   "cell_type": "markdown",
   "metadata": {},
   "source": [
    "# General\n",
    "Currently designed for `Run all` option."
   ]
  },
  {
   "cell_type": "markdown",
   "metadata": {},
   "source": [
    "\n",
    "## Link on lectures\n",
    " https://github.com/MelLain/mipt-python/tree/spring-2024/lectures"
   ]
  },
  {
   "cell_type": "code",
   "execution_count": 1,
   "metadata": {},
   "outputs": [],
   "source": [
    "\n",
    "from __future__ import annotations                  # has to be here for forward references block"
   ]
  },
  {
   "cell_type": "markdown",
   "metadata": {},
   "source": [
    "# Types and operations"
   ]
  },
  {
   "cell_type": "markdown",
   "metadata": {},
   "source": [
    "- Every single \"instance\" (even pure values) are objects"
   ]
  },
  {
   "cell_type": "code",
   "execution_count": 2,
   "metadata": {},
   "outputs": [],
   "source": [
    "\n",
    "a = 5\n",
    "b = a"
   ]
  },
  {
   "cell_type": "markdown",
   "metadata": {},
   "source": [
    "`a` - object -> points on `5` <br>\n",
    "`b` - object -> points on the same object as `a` -> points on `5` <br>\n",
    "`5` - object -> even being a pure value"
   ]
  },
  {
   "cell_type": "markdown",
   "metadata": {},
   "source": [
    "- Every single object has it's own unique identificator in virtual space, in python it's ID\n",
    "- As compilers optimise in other languages, in python constant equal objects has the same ID (also it's the same instance basicly)"
   ]
  },
  {
   "cell_type": "code",
   "execution_count": 3,
   "metadata": {},
   "outputs": [
    {
     "data": {
      "text/plain": [
       "True"
      ]
     },
     "execution_count": 3,
     "metadata": {},
     "output_type": "execute_result"
    }
   ],
   "source": [
    "id(b) == id(a)                  # -> False, a and b are not the same (and/or) constant objects\n",
    "a is b                          # -> True, both points at 5"
   ]
  },
  {
   "cell_type": "markdown",
   "metadata": {},
   "source": [
    "- Garbage collection in python works in pretty common way -> *shared objects logic* <br>\n",
    "This mechanics feature is *reference counting*, also it can resolve cycle referencing."
   ]
  },
  {
   "cell_type": "markdown",
   "metadata": {},
   "source": [
    "References were: `b` -> `a` -> `5` "
   ]
  },
  {
   "cell_type": "code",
   "execution_count": 4,
   "metadata": {},
   "outputs": [],
   "source": [
    "del a                           "
   ]
  },
  {
   "cell_type": "markdown",
   "metadata": {},
   "source": [
    "Now: `b` -> `5`"
   ]
  },
  {
   "cell_type": "code",
   "execution_count": 5,
   "metadata": {},
   "outputs": [
    {
     "name": "stdout",
     "output_type": "stream",
     "text": [
      "{55}\n"
     ]
    }
   ],
   "source": [
    "\n",
    "text_1 = 'text'\n",
    "text_2 = \"Is not = isn't\"       # \"\" ~ '', but such cases requires \"\"\n",
    "\n",
    "print({a:=55})                  # := is walrus operator that returns assigned value\n",
    "\n",
    "x, y, z = 1, 2, 3               # [Feature]\n",
    "\n",
    "type(1)                         # int\n",
    "\n",
    "bool_value = True or (False and True)\n",
    "\n",
    "complex_number = 1 + 4j\n",
    "\n",
    "annotation_value: int = 5       # strong typisation\n",
    "annot_lst: list[int] = [1, 2, 3]"
   ]
  },
  {
   "cell_type": "markdown",
   "metadata": {},
   "source": [
    "## None-type"
   ]
  },
  {
   "cell_type": "code",
   "execution_count": 6,
   "metadata": {},
   "outputs": [],
   "source": [
    "\n",
    "none_object = None\n",
    "None == None    # True\n",
    "None or True    # True\n",
    "# 5 * None      # error\n",
    "\n",
    "if none_object is None:                 # prefer is-checking instead of == or !=\n",
    "    pass"
   ]
  },
  {
   "cell_type": "markdown",
   "metadata": {},
   "source": [
    "# Some math moments"
   ]
  },
  {
   "cell_type": "code",
   "execution_count": 7,
   "metadata": {},
   "outputs": [
    {
     "data": {
      "text/plain": [
       "2"
      ]
     },
     "execution_count": 7,
     "metadata": {},
     "output_type": "execute_result"
    }
   ],
   "source": [
    "5 // 2              # = 2\n",
    "5 % 2               # = 1\n",
    "\n",
    "pow(2, 4) == 2 ** 4     # 2^4\n",
    "abs(-2)\n",
    "sum((1, 2, 3))\n",
    "min(54, 2346, 234, 6)\n",
    "\n",
    "import math\n",
    "math.sqrt(2)\n",
    "math.sin(10)\n",
    "\n",
    "math.trunc(1.4)             # move current val to 0  -> 1\n",
    "math.floor(-5.2)            # move to lowest integer -> -5\n",
    "round(1.5)                  # standart round         -> 2"
   ]
  },
  {
   "cell_type": "markdown",
   "metadata": {},
   "source": [
    "# Input / Output"
   ]
  },
  {
   "cell_type": "code",
   "execution_count": 8,
   "metadata": {},
   "outputs": [
    {
     "name": "stdout",
     "output_type": "stream",
     "text": [
      "Congrats\n"
     ]
    }
   ],
   "source": [
    "\n",
    "input_value = input('Input ur value here:')     # this func print text + returns user input\n",
    "print('Congrats')"
   ]
  },
  {
   "cell_type": "markdown",
   "metadata": {},
   "source": [
    "# [Feature] String evaluation as code"
   ]
  },
  {
   "cell_type": "code",
   "execution_count": 9,
   "metadata": {},
   "outputs": [
    {
     "name": "stdout",
     "output_type": "stream",
     "text": [
      "234\n"
     ]
    }
   ],
   "source": [
    "eval('1 + 2')\n",
    "exec(\n",
    "'''\n",
    "str_a = 123\n",
    "str_b = 111\n",
    "print(str_a + str_b)\n",
    "'''\n",
    ")"
   ]
  },
  {
   "cell_type": "markdown",
   "metadata": {},
   "source": [
    "# String interactions"
   ]
  },
  {
   "cell_type": "code",
   "execution_count": 10,
   "metadata": {},
   "outputs": [
    {
     "data": {
      "text/plain": [
       "'g'"
      ]
     },
     "execution_count": 10,
     "metadata": {},
     "output_type": "execute_result"
    }
   ],
   "source": [
    "\n",
    "dummy_text = 'abcdefg'  # operations bellow will NOT MODIFY dummy_text\n",
    "dummy_text[-1]          # bound jumping             -> 'g'"
   ]
  },
  {
   "cell_type": "markdown",
   "metadata": {},
   "source": [
    "## [Feature] Slicing"
   ]
  },
  {
   "cell_type": "code",
   "execution_count": 11,
   "metadata": {},
   "outputs": [
    {
     "data": {
      "text/plain": [
       "'geca'"
      ]
     },
     "execution_count": 11,
     "metadata": {},
     "output_type": "execute_result"
    }
   ],
   "source": [
    "\n",
    "dummy_text[0: 3]        # slicing [0, 3)            -> 'abc'    \n",
    "dummy_text[:3]          # slicing [0, 3]            -> 'abc'\n",
    "dummy_text[slice(1,3)]  # slicing (1, 3)            -> 'bc'\n",
    "dummy_text[:10:2]       # till 10 pos with step 2   -> 'aceg'\n",
    "dummy_text[::-1]        # reverse                   -> 'gfedcba'\n",
    "dummy_text[::-2]        # reverse, but 1/2"
   ]
  },
  {
   "cell_type": "markdown",
   "metadata": {},
   "source": [
    "## [Feature-like] Formatting"
   ]
  },
  {
   "cell_type": "code",
   "execution_count": 12,
   "metadata": {},
   "outputs": [
    {
     "data": {
      "text/plain": [
       "\"dummy_text='qwerty', also dummy_text is qwerty\""
      ]
     },
     "execution_count": 12,
     "metadata": {},
     "output_type": "execute_result"
    }
   ],
   "source": [
    "\n",
    "dummy_text = \"qw{}ty\".format('er')                      # 'qwerty'\n",
    "\n",
    "'x = %d, y = %d' % (10, 11.5)\n",
    "\n",
    "'x = {1}, y = {0}'.format(000, 111)                     # 'x = 111, y = 000'\n",
    "\n",
    "f'x = {10}, y = {20}'                                   # 'x = 10, y = 20'\n",
    "\n",
    "'x = {val1:f}, y = {val2:f}'.format(val1=10, val2=20)\n",
    "\n",
    "f'{dummy_text=}, also dummy_text is {dummy_text}'       # 'dummy_text=qwerty, also dummy text is qwerty'"
   ]
  },
  {
   "cell_type": "markdown",
   "metadata": {},
   "source": [
    "\n",
    "# Containers / collections"
   ]
  },
  {
   "cell_type": "markdown",
   "metadata": {},
   "source": [
    "\n",
    "- Some objects are fixed to muttable or immutable states <br>\n",
    "- Mutable states are passed to modifying, immutable - onle as copy."
   ]
  },
  {
   "cell_type": "markdown",
   "metadata": {},
   "source": [
    "*Copying stuff*"
   ]
  },
  {
   "cell_type": "code",
   "execution_count": 13,
   "metadata": {},
   "outputs": [],
   "source": [
    "\n",
    "lst1 = [1, 2, 3]\n",
    "lst2 = lst1[:]                  # copy\n",
    "lst2 = lst1.copy()              # also copy\n",
    "lst3 = lst1                     # not copy, lst3 now also points on [1, 2, 3]... as well as lst1\n",
    "\n",
    "import copy\n",
    "\n",
    "lst1 = [[1, 2, 3], 4, 5]    \n",
    "lst2 = copy.deepcopy(lst1)          # also copy nested muttable objects! any nested-nested objects require more deepcopy calls =)"
   ]
  },
  {
   "cell_type": "markdown",
   "metadata": {},
   "source": [
    "*Zipping containers*"
   ]
  },
  {
   "cell_type": "code",
   "execution_count": 14,
   "metadata": {},
   "outputs": [
    {
     "name": "stdout",
     "output_type": "stream",
     "text": [
      "1 a 2 b 3 c \n"
     ]
    }
   ],
   "source": [
    "\n",
    "z = zip([1, 2, 3], 'abc')           # 'Compress by iterators 1 to 'a', 2 to 'b', 3 to 'c'\n",
    "for a, b in z:\n",
    "    print(a, b, end=' ')\n",
    "print()                             # skip line"
   ]
  },
  {
   "cell_type": "markdown",
   "metadata": {},
   "source": [
    "## Lists\n",
    "- \"Smart\" array-like type <br>\n",
    "- Mutable"
   ]
  },
  {
   "cell_type": "code",
   "execution_count": 15,
   "metadata": {},
   "outputs": [],
   "source": [
    "\n",
    "lst = [1, None, 'abc']                  \n",
    "lst[0] = 111                            \n",
    "lst[-1]                                 # Same bound logic -> 'abc'\n",
    "# lst[5]                                # Error\n",
    "\n",
    "even_qrt_lst = [x ** 2 for x in [1, 3, 5, 7, 9] if x <= 5]    # list generator -> [1, 9, 25]"
   ]
  },
  {
   "cell_type": "markdown",
   "metadata": {},
   "source": [
    "### Tuples\n",
    "- Immutable version of lists"
   ]
  },
  {
   "cell_type": "code",
   "execution_count": 16,
   "metadata": {},
   "outputs": [],
   "source": [
    "\n",
    "tupple_object = (1, 'abc', True)"
   ]
  },
  {
   "cell_type": "markdown",
   "metadata": {},
   "source": [
    "## Dictionary\n",
    "- Elements are {`Key`: `value`} <br>\n",
    "- Mutable <br>\n",
    "- Based on Hash tables"
   ]
  },
  {
   "cell_type": "code",
   "execution_count": 17,
   "metadata": {},
   "outputs": [],
   "source": [
    "\n",
    "dictionary = {1: 'One',\n",
    "              2: 'Two',\n",
    "              3: 'Three',\n",
    "              4: 'Four'}            \n",
    "del dictionary[4]                   # removes object with key - 4\n",
    "\n",
    "d = dict.fromkeys(list('aaaabbcccc'))           # {'a': None, 'b': None, 'c': None}\n",
    "\n",
    "d1 = {4: 'four', 5: 'five'}\n",
    "dictionary | d1                     # Dictionary concatenation (no assign)\n",
    "dictionary |= d1                    # Concatenation & assign"
   ]
  },
  {
   "cell_type": "markdown",
   "metadata": {},
   "source": [
    "### Set\n",
    "- Dictionary variation, but without keys <br>\n",
    "- Contains only unique values <br>\n",
    "- Mutable"
   ]
  },
  {
   "cell_type": "code",
   "execution_count": 18,
   "metadata": {},
   "outputs": [],
   "source": [
    "\n",
    "set_object = {1, 2, 2, 3, 3, 3, 3, 3, '4', '4', '5'}"
   ]
  },
  {
   "cell_type": "markdown",
   "metadata": {},
   "source": [
    "# Working with files"
   ]
  },
  {
   "cell_type": "code",
   "execution_count": 19,
   "metadata": {},
   "outputs": [],
   "source": [
    "\n",
    "file_to_read = open('some_file.txt', 'r')           # Open file on read('r') | 'a' - append - to write\n",
    "file_to_read.read()\n",
    "file_to_read.close()\n",
    "file_to_read.closed                                 # check if closed\n",
    "\n",
    "with open('some_file.txt', 'a') as file_to_write:           # file context-manager, better to use this all the time\n",
    "    file_to_write.write('additional string')"
   ]
  },
  {
   "cell_type": "markdown",
   "metadata": {},
   "source": [
    "# Cycles, loops and etc."
   ]
  },
  {
   "cell_type": "code",
   "execution_count": 20,
   "metadata": {},
   "outputs": [],
   "source": [
    "\n",
    "if 5 % 2 == 0:\n",
    "    pass                                # simple buddy for empty scope\n",
    "else:\n",
    "    pass\n",
    "\n",
    "a = 5 if None is None else 5555         # ternar\n",
    "\n",
    "a = 10\n",
    "while a is not None:\n",
    "    a += 1\n",
    "    if a == 15: break\n",
    "    if a != 13: continue \n",
    "else:                                   # not necessary, but a sign that it can be here\n",
    "    pass\n",
    "\n",
    "lst = [1, 2, 3]\n",
    "for element in lst:                     # range based\n",
    "    pass\n",
    "\n",
    "for index in range(len(lst)):           # index based, range() is a generator that operates with iterators\n",
    "    if lst[index] is not None: break\n",
    "else:\n",
    "    pass\n",
    "\n",
    "for index, element in enumerate(lst):   # index + range based\n",
    "    pass"
   ]
  },
  {
   "cell_type": "markdown",
   "metadata": {},
   "source": [
    "# Modules"
   ]
  },
  {
   "cell_type": "code",
   "execution_count": 21,
   "metadata": {},
   "outputs": [
    {
     "data": {
      "text/plain": [
       "<module 'numbers' from 'c:\\\\Users\\\\Vadim\\\\AppData\\\\Local\\\\Programs\\\\Python\\\\Python312\\\\Lib\\\\numbers.py'>"
      ]
     },
     "execution_count": 21,
     "metadata": {},
     "output_type": "execute_result"
    }
   ],
   "source": [
    "\n",
    "import numbers\n",
    "\n",
    "numbers.Number()                                # numbers - module namespace\n",
    "\n",
    "import numbers as nbrs                          # second import won't do anything\n",
    "\n",
    "nbrs.Number()                                   # nbrs - synonym to numbers module namespace\n",
    "\n",
    "from importlib import reload as reload_analog   # import part of the module\n",
    "\n",
    "reload_analog(numbers)                          # manually reload import (for example if it somehow changed)"
   ]
  },
  {
   "cell_type": "markdown",
   "metadata": {},
   "source": [
    "# Functions"
   ]
  },
  {
   "cell_type": "markdown",
   "metadata": {},
   "source": [
    "\n",
    "Functions are also object, they are also symbol links"
   ]
  },
  {
   "cell_type": "code",
   "execution_count": 22,
   "metadata": {},
   "outputs": [],
   "source": [
    "\n",
    "def function(arg1, arg2=None):                  # arg1 & arg2 are symbol links -> they are REFERENCES, arg2 - has default param\n",
    "    pass\n",
    "\n",
    "function(arg1=5)                                # [Feature] function call, arg1 - used as keyword\n",
    "\n",
    "\n",
    "def VarArgFunction(*args, a):                 # args as var-arg - args here - TUPLE\n",
    "    pass\n",
    "\n",
    "VarArgFunction(1, 4, 5, 2, 3, 5, 6, 7, a=2)\n",
    "\n",
    "\n",
    "def VarArgFunction(a, *args, **kwargs):                                             # [Feature] kwargs here - DICTIONARY\n",
    "    pass\n",
    "\n",
    "VarArgFunction(5, *(1,2,3,4,5,6), **{'1': 'One', '2': 'Two', '3': 'Three'})         # could not write a=5\n",
    "\n",
    "\n",
    "def PositionSpecificationFunction(pos_only_param1, pos_only_param2, /, pos_or_kword_param, *, kword_only_param1, kword_only_param2): \n",
    "    pass\n",
    "\n",
    "PositionSpecificationFunction(1, 2,                         # position only params\n",
    "                              5,                            # allow either position param or keyword\n",
    "                              kword_only_param1=4,          # only keyword param\n",
    "                              kword_only_param2=10)         # only keyword param\n",
    "\n",
    "PositionSpecificationFunction(1, 2,                         # position only params\n",
    "                              pos_or_kword_param=5,         # allow either position param or keyword\n",
    "                              kword_only_param1=4,          # only keyword param\n",
    "                              kword_only_param2=10)         # only keyword param\n",
    "\n",
    "# PositionSpecificationFunction(1, pos_or_kword_param=2, \n",
    "#                               5, \n",
    "#                               kword_only_param1=4, \n",
    "#                               kword_only_param2=10)      # error\n",
    "\n",
    "# PositionSpecificationFunction(1, pos_or_kword_param=2, 5, 4, 10)      # error\n",
    "\n",
    "\n",
    "to_glob_var = 10\n",
    "def Func():\n",
    "    global to_glob_var                      # \"capture\" global value\n",
    "    to_glob_var += 1\n",
    "\n",
    "def Func1():\n",
    "    a = 10\n",
    "    def FuncInner():\n",
    "        nonlocal a                          # \"capture\" value from not local scope\n",
    "        a += 100\n",
    "\n",
    "def StrongTypeFunc(obj: str, *args: int, **kwargs: float) -> None:\n",
    "    pass"
   ]
  },
  {
   "cell_type": "markdown",
   "metadata": {},
   "source": [
    "# Labmdas"
   ]
  },
  {
   "cell_type": "markdown",
   "metadata": {},
   "source": [
    "No capture mechanics in build-in =("
   ]
  },
  {
   "cell_type": "code",
   "execution_count": 23,
   "metadata": {},
   "outputs": [],
   "source": [
    "\n",
    "lambda_sqrt = lambda x: x ** 2              # input -> x, execution block -> x ** 2"
   ]
  },
  {
   "cell_type": "markdown",
   "metadata": {},
   "source": [
    "# Iterators"
   ]
  },
  {
   "cell_type": "code",
   "execution_count": 24,
   "metadata": {},
   "outputs": [],
   "source": [
    "\n",
    "it = iter([1, 2, 3])"
   ]
  },
  {
   "cell_type": "markdown",
   "metadata": {},
   "source": [
    "## Generators"
   ]
  },
  {
   "cell_type": "code",
   "execution_count": 25,
   "metadata": {},
   "outputs": [
    {
     "name": "stdout",
     "output_type": "stream",
     "text": [
      "2 4\n"
     ]
    }
   ],
   "source": [
    "\n",
    "generator = (x*2 for x in [1, 2, 3])        # Iterator subtype, gets iterator on first element\n",
    "\n",
    "print(next(generator), next(generator))     # -> 1, 2   -   generator could store states\n",
    "\n",
    "def my_range(n):                            # -> First entry 0 1 2 3 4 5 ...    - depends on n input\n",
    "    yield 'First entry'                     # like return, but func will store it's state, so.. this yield return for 1st call, but skipped for any next call\n",
    "\n",
    "    i = -1\n",
    "    while i < n:\n",
    "        i += 1\n",
    "        yield i                             # this yield would be called for 2nd my_range() call, then for 3rd call but with changed i value and e.t.c."
   ]
  },
  {
   "cell_type": "markdown",
   "metadata": {},
   "source": [
    "# Classes"
   ]
  },
  {
   "cell_type": "code",
   "execution_count": 26,
   "metadata": {},
   "outputs": [
    {
     "name": "stdout",
     "output_type": "stream",
     "text": [
      "-999\n"
     ]
    }
   ],
   "source": [
    "\n",
    "class Color:\n",
    "    brown: str = 'brown'                        # class member\n",
    "\n",
    "clr = Color()\n",
    "clr.brown\n",
    "Color.brown\n",
    "clr.brown = 'Brown'\n",
    "\n",
    "clr.red = 'red'                                 # [Feature] We could add members to class from 'anywhere' -_-\n",
    "\n",
    "\n",
    "class Kitty:\n",
    "    def __init__(self):                         # Entry point, NOT A CONSTRUCTOR! It gets object and init it's state. __new__ is responsible to create obj and it's a static member\n",
    "        self.bite_power = 9999\n",
    "\n",
    "    def Bite(self, bite_power) -> None:         # any class's stuff should notice pointer on class - self\n",
    "        pass\n",
    "\n",
    "    def Bite1(idk_what_is_self, bite_power):    # is also possible... don't do that*\n",
    "        pass\n",
    "\n",
    "    def Cuteonize(howStrong):                   # no self = static member\n",
    "        pass\n",
    "\n",
    "    def __magic_method__(self):                  # magic method\n",
    "        pass\n",
    "\n",
    "class Dummy:\n",
    "    def __init__(self):\n",
    "        self.public_field = 1                   # like public\n",
    "        self._private_field = -1                # like protected, but visible as public\n",
    "        self.__mangled_field = -999             # like private, but still could be used somehow.......\n",
    "\n",
    "    def DummyDo(self):\n",
    "        pass\n",
    "\n",
    "class DummyBro:\n",
    "    pass\n",
    "\n",
    "class DerivedDummy(Dummy, DummyBro):            # inheritance (multiple)\n",
    "    def DummyDo(self):                          # method override\n",
    "        return super().DummyDo()                # call parent's method implementation\n",
    "\n",
    "dmy = Dummy()\n",
    "#print(dmy.__mangled_field)                     # error -> can't see from outside\n",
    "print(dmy._Dummy__mangled_field)                # ...... i meant this somehow.....\n",
    "\n",
    "\n",
    "x = 5\n",
    "if isinstance(x, int):                          # check type, also could check if it's inherited\n",
    "    pass\n",
    "\n",
    "class DerivedInt(int):\n",
    "    pass\n",
    "\n",
    "if issubclass(DerivedInt, int):                 # the same but for types\n",
    "    pass"
   ]
  },
  {
   "cell_type": "markdown",
   "metadata": {},
   "source": [
    "## Abstact classes"
   ]
  },
  {
   "cell_type": "code",
   "execution_count": 27,
   "metadata": {},
   "outputs": [],
   "source": [
    "\n",
    "class AbstractDummy1():\n",
    "    def method(self):\n",
    "        raise NotImplementedError\n",
    "\n",
    "from abc import ABC, abstractmethod\n",
    "\n",
    "class AbstractDummy2(ABC):\n",
    "    @abstractmethod\n",
    "    def method():\n",
    "        ..."
   ]
  },
  {
   "cell_type": "markdown",
   "metadata": {},
   "source": [
    "## Forward references"
   ]
  },
  {
   "cell_type": "markdown",
   "metadata": {},
   "source": [
    "\n",
    "~ like using currently undefined types"
   ]
  },
  {
   "cell_type": "code",
   "execution_count": 28,
   "metadata": {},
   "outputs": [],
   "source": [
    "\n",
    "class ForwardDummy1:\n",
    "    def frwd(self) -> 'ForwardDummy1':              # without '...' there would be error\n",
    "        return ForwardDummy1()\n",
    "\n",
    "\n",
    "class ForwardDummy2:                                \n",
    "    def frwd(self) -> ForwardDummy2:                # requires from __future__ import annotations (in the beginning)\n",
    "        return ForwardDummy2()"
   ]
  },
  {
   "cell_type": "markdown",
   "metadata": {},
   "source": [
    "# Attributes"
   ]
  },
  {
   "cell_type": "markdown",
   "metadata": {},
   "source": [
    "\n",
    "Some special params or methods, that should not be public, but are helpfull sometimes"
   ]
  },
  {
   "cell_type": "code",
   "execution_count": 29,
   "metadata": {},
   "outputs": [
    {
     "name": "stdout",
     "output_type": "stream",
     "text": [
      "['__abs__', '__add__', '__and__', '__bool__']\n",
      "some\n"
     ]
    }
   ],
   "source": [
    "\n",
    "print(dir(5)[:4])                   # special attributes are __magic_field__\n",
    "\n",
    "class Cls:\n",
    "    pass\n",
    "\n",
    "cls = Cls()\n",
    "\n",
    "setattr(cls, 'some_attr', 'some')   # add attribute\n",
    "\n",
    "print(getattr(cls, 'some_attr'))\n",
    "\n",
    "delattr(cls, 'some_attr')           # delete attribute\n",
    "\n",
    "#print(getattr(cls, 'some_attr'))   # error"
   ]
  },
  {
   "cell_type": "markdown",
   "metadata": {},
   "source": [
    "# [Feature-like] Decorators"
   ]
  },
  {
   "cell_type": "markdown",
   "metadata": {},
   "source": [
    "Not like a programming pattern"
   ]
  },
  {
   "cell_type": "code",
   "execution_count": 30,
   "metadata": {},
   "outputs": [],
   "source": [
    "\n",
    "class DecoratedInnocent:\n",
    "    def __init__(self): pass\n",
    "\n",
    "    @property                       # Decoration\n",
    "    def field(self):                # makes field read-only\n",
    "        return self._field\n",
    "\n",
    "    @staticmethod\n",
    "    def StaticMethod():         \n",
    "        pass\n",
    "\n",
    "    @classmethod\n",
    "    def ClassMethod():\n",
    "        pass\n",
    "\n",
    "\n",
    "hs_prp = DecoratedInnocent()\n",
    "DecoratedInnocent.StaticMethod()\n",
    "#hs_prp.field = 10                  # error -> field is read-only property\n",
    "\n",
    "\n",
    "from dataclasses import dataclass\n",
    "\n",
    "@dataclass(frozen=True, order=True)         # it's like a const structure of data, and it could be iteratable as tuple\n",
    "class Data:\n",
    "    int_field: int\n",
    "    str_field: str"
   ]
  },
  {
   "cell_type": "markdown",
   "metadata": {},
   "source": [
    "# Throw, try-catch"
   ]
  },
  {
   "cell_type": "code",
   "execution_count": 31,
   "metadata": {},
   "outputs": [],
   "source": [
    "\n",
    "try:\n",
    "    pass\n",
    "except ValueError:\n",
    "    raise                           # ~ throw -> here raise is like passing error further (for example, to next except: block)\n",
    "except RuntimeError as error:\n",
    "    raise LookupError from error    # could pass further with keeping previous exceptions\n",
    "except:                             # catch any exception\n",
    "    pass\n",
    "else:                               # if no exception\n",
    "    pass\n",
    "finally:                            # would be called anyway eventually\n",
    "    pass"
   ]
  },
  {
   "cell_type": "markdown",
   "metadata": {},
   "source": [
    "# Typing stuff"
   ]
  },
  {
   "cell_type": "code",
   "execution_count": 32,
   "metadata": {},
   "outputs": [],
   "source": [
    "\n",
    "from typing import Union, Any, Optional\n",
    "\n",
    "def FuncUnion(x: Union[list[int], set[int]]) -> None: ...       # could get x as list[int] or as set[int]\n",
    "\n",
    "def FuncAny(x: Any) -> None: x.nothing()                        # less checks than dynamic typing\n",
    "\n",
    "def FuncOptional(x: Optional[list[int]]) -> None: ...           # x as None or list[int]"
   ]
  },
  {
   "cell_type": "markdown",
   "metadata": {},
   "source": [
    "# Generics"
   ]
  },
  {
   "cell_type": "code",
   "execution_count": 33,
   "metadata": {},
   "outputs": [
    {
     "data": {
      "text/plain": [
       "False"
      ]
     },
     "execution_count": 33,
     "metadata": {},
     "output_type": "execute_result"
    }
   ],
   "source": [
    "\n",
    "from typing import Generic, TypeVar\n",
    "\n",
    "T = TypeVar('T')                                                # Ref to type\n",
    "\n",
    "class Stack(Generic[T]):\n",
    "    def __init__(self):\n",
    "        self.items: list[T] = []\n",
    "\n",
    "    def push(self, item: T):\n",
    "        self.items.append(item)\n",
    "\n",
    "\n",
    "from typing import Callable                                             # Protocols are like concepts\n",
    "\n",
    "def ProtocolFunc(f: Callable[[int, int], bool]) -> bool:                # f should be func with signature - func(int, int) -> bool ~~ f should have __call__ and could be called in such extent\n",
    "    return f(1,2)\n",
    "\n",
    "ProtocolFunc(lambda x, y: x == y)"
   ]
  }
 ],
 "metadata": {
  "kernelspec": {
   "display_name": "Python 3",
   "language": "python",
   "name": "python3"
  },
  "language_info": {
   "codemirror_mode": {
    "name": "ipython",
    "version": 3
   },
   "file_extension": ".py",
   "mimetype": "text/x-python",
   "name": "python",
   "nbconvert_exporter": "python",
   "pygments_lexer": "ipython3",
   "version": "3.12.6"
  }
 },
 "nbformat": 4,
 "nbformat_minor": 2
}
