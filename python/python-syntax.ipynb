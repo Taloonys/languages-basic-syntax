{
 "cells": [
  {
   "cell_type": "markdown",
   "metadata": {},
   "source": [
    "# General\n",
    "Every single \"instance\" in python is an object.\n",
    "Every object's lifetime is controlled by valid reference counting - aka shared object mechanics.\n",
    "Some objects are fixed to muttable or immutable states.\n",
    "Mutable states are passed to modifying, immutable - onle as copy."
   ]
  },
  {
   "cell_type": "markdown",
   "metadata": {},
   "source": [
    "\n",
    "## Link on lectures\n",
    " https://github.com/MelLain/mipt-python/tree/spring-2024/lectures"
   ]
  },
  {
   "cell_type": "code",
   "execution_count": null,
   "metadata": {},
   "outputs": [],
   "source": [
    "\n",
    "from __future__ import annotations                  # has to be here for forward references block"
   ]
  },
  {
   "cell_type": "markdown",
   "metadata": {},
   "source": [
    "# 1. Types and operations"
   ]
  },
  {
   "cell_type": "code",
   "execution_count": null,
   "metadata": {},
   "outputs": [],
   "source": [
    "\n",
    "a = 5                           # a is object, 5 is also separate object. a now points on 5. rn 2 objects are alive\n",
    "b = a\n",
    "\n",
    "id(b) == id(a)                  # -> False, a and b are not the same (and/or) constant objects\n",
    "a is b                          # -> True, both points at 5\n",
    "\n",
    "\n",
    "del a                           # manually delete a, if there are no objects pointing on 5 -> 5 would be deleted as well, but b points on 5\n",
    "# b would still point on 5, 5 is still alive\n",
    "\n",
    "text_1 = 'text'\n",
    "text_2 = \"Is not = isn't\"       # \"\" ~ '', but such cases requires \"\"\n",
    "\n",
    "print({a:=55})                  # := is walrus operator that returns assigned value\n",
    "\n",
    "x, y, z = 1, 2, 3               # [Feature]\n",
    "\n",
    "5 // 2              # = 2\n",
    "5 % 2               # = 1\n",
    "\n",
    "type(1)             # int\n",
    "\n",
    "bool_value = True or (False and True)\n",
    "\n",
    "complex_number = 1 + 4j\n",
    "\n",
    "none_object = None\n",
    "\n",
    "annotation_value: int = 5       # strong typisation\n",
    "annot_lst: list[int] = [1, 2, 3]"
   ]
  },
  {
   "cell_type": "markdown",
   "metadata": {},
   "source": [
    "# 2. Some math moments"
   ]
  },
  {
   "cell_type": "code",
   "execution_count": null,
   "metadata": {},
   "outputs": [],
   "source": [
    "\n",
    "pow(2, 4) == 2 ** 4     # 2^4\n",
    "abs(-2)\n",
    "sum((1, 2, 3))\n",
    "min(54, 2346, 234, 6)\n",
    "\n",
    "import math\n",
    "math.sqrt(2)\n",
    "math.sin(10)\n",
    "\n",
    "math.trunc(1.4)             # move current val to 0  -> 1\n",
    "math.floor(-5.2)            # move to lowest integer -> -5\n",
    "round(1.5)                  # standart round         -> 2"
   ]
  },
  {
   "cell_type": "markdown",
   "metadata": {},
   "source": [
    "# 3. Input / Output"
   ]
  },
  {
   "cell_type": "code",
   "execution_count": null,
   "metadata": {},
   "outputs": [],
   "source": [
    "\n",
    "input_value = input('Input ur value here:')     # this func print text + returns user input\n",
    "print('Congrats')"
   ]
  },
  {
   "cell_type": "markdown",
   "metadata": {},
   "source": [
    "# 4. [Feature] String evaluation as code"
   ]
  },
  {
   "cell_type": "code",
   "execution_count": null,
   "metadata": {},
   "outputs": [],
   "source": [
    "eval('1 + 2')\n",
    "exec(\n",
    "'''\n",
    "str_a = 123\n",
    "str_b = 111\n",
    "print(str_a + str_b)\n",
    "'''\n",
    ")"
   ]
  },
  {
   "cell_type": "markdown",
   "metadata": {},
   "source": [
    "# 5. None-type"
   ]
  },
  {
   "cell_type": "code",
   "execution_count": null,
   "metadata": {},
   "outputs": [],
   "source": [
    "\n",
    "none_object = None\n",
    "None == None    # True\n",
    "None or True    # True\n",
    "# 5 * None      # error\n",
    "\n",
    "if none_object is None:                 # prefer is-checking instead of == or !=\n",
    "    pass"
   ]
  },
  {
   "cell_type": "markdown",
   "metadata": {},
   "source": [
    "# 6. String interactions"
   ]
  },
  {
   "cell_type": "code",
   "execution_count": null,
   "metadata": {},
   "outputs": [],
   "source": [
    "\n",
    "dummy_text = 'abcdefg'  # operations bellow will NOT MODIFY dummy_text\n",
    "dummy_text[-1]          # bound jumping             -> 'g'"
   ]
  },
  {
   "cell_type": "markdown",
   "metadata": {},
   "source": [
    "## 6.1 [Feature] Slicing"
   ]
  },
  {
   "cell_type": "code",
   "execution_count": null,
   "metadata": {},
   "outputs": [],
   "source": [
    "\n",
    "dummy_text[0: 3]        # slicing [0, 3)            -> 'abc'    \n",
    "dummy_text[:3]          # slicing [0, 3]            -> 'abc'\n",
    "dummy_text[slice(1,3)]  # slicing (1, 3)            -> 'bc'\n",
    "dummy_text[:10:2]       # till 10 pos with step 2   -> 'aceg'\n",
    "dummy_text[::-1]        # reverse                   -> 'gfedcba'\n",
    "dummy_text[::-2]        # reverse, but 1/2"
   ]
  },
  {
   "cell_type": "markdown",
   "metadata": {},
   "source": [
    "## 6.2 [Feature-like] Formatting"
   ]
  },
  {
   "cell_type": "code",
   "execution_count": null,
   "metadata": {},
   "outputs": [],
   "source": [
    "\n",
    "dummy_text = \"qw{}ty\".format('er')                      # 'qwerty'\n",
    "\n",
    "'x = %d, y = %d' % (10, 11.5)\n",
    "\n",
    "'x = {1}, y = {0}'.format(000, 111)                     # 'x = 111, y = 000'\n",
    "\n",
    "f'x = {10}, y = {20}'                                   # 'x = 10, y = 20'\n",
    "\n",
    "'x = {val1:f}, y = {val2:f}'.format(val1=10, val2=20)\n",
    "\n",
    "f'{dummy_text=}, also dummy_text is {dummy_text}'       # 'dummy_text=qwerty, also dummy text is qwerty'"
   ]
  },
  {
   "cell_type": "markdown",
   "metadata": {},
   "source": [
    "\n",
    "# 7. Containers / collections"
   ]
  },
  {
   "cell_type": "markdown",
   "metadata": {},
   "source": [
    "*Copying stuff*"
   ]
  },
  {
   "cell_type": "code",
   "execution_count": null,
   "metadata": {},
   "outputs": [],
   "source": [
    "\n",
    "lst1 = [1, 2, 3]\n",
    "lst2 = lst1[:]                  # copy\n",
    "lst2 = lst1.copy()              # also copy\n",
    "lst3 = lst1                     # not copy, lst3 now also points on [1, 2, 3]... as well as lst1\n",
    "\n",
    "import copy\n",
    "\n",
    "lst1 = [[1, 2, 3], 4, 5]    \n",
    "lst2 = copy.deepcopy(lst1)          # also copy nested muttable objects! any nested-nested objects require more deepcopy calls =)"
   ]
  },
  {
   "cell_type": "markdown",
   "metadata": {},
   "source": [
    "*Zipping containers*"
   ]
  },
  {
   "cell_type": "code",
   "execution_count": null,
   "metadata": {},
   "outputs": [],
   "source": [
    "\n",
    "z = zip([1, 2, 3], 'abc')           # 'Compress by iterators 1 to 'a', 2 to 'b', 3 to 'c'\n",
    "for a, b in z:\n",
    "    print(a, b, end=' ')\n",
    "print()                             # skip line"
   ]
  },
  {
   "cell_type": "markdown",
   "metadata": {},
   "source": [
    "## 7.1 Lists"
   ]
  },
  {
   "cell_type": "code",
   "execution_count": null,
   "metadata": {},
   "outputs": [],
   "source": [
    "\n",
    "lst = [1, None, 'abc']                  # Simple array-like type [] - MUTABLE - any types inside and dynamicly resizable\n",
    "lst[0] = 111                            # Mutable\n",
    "lst[-1]                                 # Same bound logic -> 'abc'\n",
    "# lst[5]                                # Error\n",
    "\n",
    "even_qrt_lst = [x ** 2 for x in [1, 3, 5, 7, 9] if x <= 5]    # list generator -> [1, 9, 25]"
   ]
  },
  {
   "cell_type": "markdown",
   "metadata": {},
   "source": [
    "## 7.2 Tuples"
   ]
  },
  {
   "cell_type": "code",
   "execution_count": null,
   "metadata": {},
   "outputs": [],
   "source": [
    "\n",
    "tupple_object = (1, 'abc', True)                    # Tuple - IMMUTABLE - just like list"
   ]
  },
  {
   "cell_type": "markdown",
   "metadata": {},
   "source": [
    "## 7.3 Dictionary"
   ]
  },
  {
   "cell_type": "code",
   "execution_count": null,
   "metadata": {},
   "outputs": [],
   "source": [
    "\n",
    "dictionary = {1: 'One',\n",
    "              2: 'Two',\n",
    "              3: 'Three',\n",
    "              4: 'Four'}            # Dictonary {key : value} - MUTABLE - based on hash-tables\n",
    "del dictionary[4]                   # removes object with key - 4\n",
    "\n",
    "d = dict.fromkeys(list('aaaabbcccc'))           # {'a': None, 'b': None, 'c': None}\n",
    "\n",
    "d1 = {4: 'four', 5: 'five'}\n",
    "dictionary | d1                     # Dictionary concatenation (no assign)\n",
    "dictionary |= d1                    # Concatenation & assign"
   ]
  },
  {
   "cell_type": "markdown",
   "metadata": {},
   "source": [
    "## 7.4 Set"
   ]
  },
  {
   "cell_type": "code",
   "execution_count": null,
   "metadata": {},
   "outputs": [],
   "source": [
    "\n",
    "set_object = {1, 2, 2, 3, 3, 3, 3, 3, '4', '4', '5'}            # Set - MUTABLE - just like dictionary, but no keys, i.e. no repeat values -> {1, 2, 3, '4', '5'}"
   ]
  },
  {
   "cell_type": "markdown",
   "metadata": {},
   "source": [
    "# 8. Working with files"
   ]
  },
  {
   "cell_type": "code",
   "execution_count": null,
   "metadata": {},
   "outputs": [],
   "source": [
    "\n",
    "file_to_read = open('some_file.txt', 'r')           # Open file on read('r') | 'a' - append - to write\n",
    "file_to_read.read()\n",
    "file_to_read.close()\n",
    "file_to_read.closed                                 # check if closed\n",
    "\n",
    "with open('some_file.txt', 'a') as file_to_write:           # file context-manager, better to use this all the time\n",
    "    file_to_write.write('additional string')"
   ]
  },
  {
   "cell_type": "markdown",
   "metadata": {},
   "source": [
    "# 9. Cycles, loops and etc."
   ]
  },
  {
   "cell_type": "code",
   "execution_count": null,
   "metadata": {},
   "outputs": [],
   "source": [
    "\n",
    "if 5 % 2 == 0:\n",
    "    pass                                # simple buddy for empty scope\n",
    "else:\n",
    "    pass\n",
    "\n",
    "a = 5 if None is None else 5555         # ternar\n",
    "\n",
    "a = 10\n",
    "while a is not None:\n",
    "    a += 1\n",
    "    if a == 15: break\n",
    "    if a != 13: continue \n",
    "else:                                   # not necessary, but a sign that it can be here\n",
    "    pass\n",
    "\n",
    "lst = [1, 2, 3]\n",
    "for element in lst:                     # range based\n",
    "    pass\n",
    "\n",
    "for index in range(len(lst)):           # index based, range() is a generator that operates with iterators\n",
    "    if lst[index] is not None: break\n",
    "else:\n",
    "    pass\n",
    "\n",
    "for index, element in enumerate(lst):   # index + range based\n",
    "    pass"
   ]
  },
  {
   "cell_type": "markdown",
   "metadata": {},
   "source": [
    "# 10. Modules"
   ]
  },
  {
   "cell_type": "code",
   "execution_count": null,
   "metadata": {},
   "outputs": [],
   "source": [
    "\n",
    "import numbers\n",
    "\n",
    "numbers.Number()                                # numbers - module namespace\n",
    "\n",
    "import numbers as nbrs                          # second import won't do anything\n",
    "\n",
    "nbrs.Number()                                   # nbrs - synonym to numbers module namespace\n",
    "\n",
    "from importlib import reload as reload_analog   # import part of the module\n",
    "\n",
    "reload_analog(numbers)                          # manually reload import (for example if it somehow changed)"
   ]
  },
  {
   "cell_type": "markdown",
   "metadata": {},
   "source": [
    "# 11. Functions"
   ]
  },
  {
   "cell_type": "markdown",
   "metadata": {},
   "source": [
    "\n",
    "Functions are also object, they are also symbol links"
   ]
  },
  {
   "cell_type": "code",
   "execution_count": null,
   "metadata": {},
   "outputs": [],
   "source": [
    "\n",
    "def function(arg1, arg2=None):                  # arg1 & arg2 are symbol links -> they are REFERENCES, arg2 - has default param\n",
    "    pass\n",
    "\n",
    "function(arg1=5)                                # [Feature] function call, arg1 - used as keyword\n",
    "\n",
    "\n",
    "def VarArgFunction(*args, a):                 # args as var-arg - args here - TUPLE\n",
    "    pass\n",
    "\n",
    "VarArgFunction(1, 4, 5, 2, 3, 5, 6, 7, a=2)\n",
    "\n",
    "\n",
    "def VarArgFunction(a, *args, **kwargs):                                             # [Feature] kwargs here - DICTIONARY\n",
    "    pass\n",
    "\n",
    "VarArgFunction(5, *(1,2,3,4,5,6), **{'1': 'One', '2': 'Two', '3': 'Three'})         # could not write a=5\n",
    "\n",
    "\n",
    "def PositionSpecificationFunction(pos_only_param1, pos_only_param2, /, pos_or_kword_param, *, kword_only_param1, kword_only_param2): \n",
    "    pass\n",
    "\n",
    "PositionSpecificationFunction(1, 2,                         # position only params\n",
    "                              5,                            # allow either position param or keyword\n",
    "                              kword_only_param1=4,          # only keyword param\n",
    "                              kword_only_param2=10)         # only keyword param\n",
    "\n",
    "PositionSpecificationFunction(1, 2,                         # position only params\n",
    "                              pos_or_kword_param=5,         # allow either position param or keyword\n",
    "                              kword_only_param1=4,          # only keyword param\n",
    "                              kword_only_param2=10)         # only keyword param\n",
    "\n",
    "# PositionSpecificationFunction(1, pos_or_kword_param=2, \n",
    "#                               5, \n",
    "#                               kword_only_param1=4, \n",
    "#                               kword_only_param2=10)      # error\n",
    "\n",
    "# PositionSpecificationFunction(1, pos_or_kword_param=2, 5, 4, 10)      # error\n",
    "\n",
    "\n",
    "to_glob_var = 10\n",
    "def Func():\n",
    "    global to_glob_var                      # \"capture\" global value\n",
    "    to_glob_var += 1\n",
    "\n",
    "def Func1():\n",
    "    a = 10\n",
    "    def FuncInner():\n",
    "        nonlocal a                          # \"capture\" value from not local scope\n",
    "        a += 100\n",
    "\n",
    "def StrongTypeFunc(obj: str, *args: int, **kwargs: float) -> None:\n",
    "    pass"
   ]
  },
  {
   "cell_type": "markdown",
   "metadata": {},
   "source": [
    "# 11.1 Labmdas"
   ]
  },
  {
   "cell_type": "markdown",
   "metadata": {},
   "source": [
    "No capture mechanics in build-in =("
   ]
  },
  {
   "cell_type": "code",
   "execution_count": null,
   "metadata": {},
   "outputs": [],
   "source": [
    "\n",
    "lambda_sqrt = lambda x: x ** 2              # input -> x, execution block -> x ** 2"
   ]
  },
  {
   "cell_type": "markdown",
   "metadata": {},
   "source": [
    "# 12. Iterators"
   ]
  },
  {
   "cell_type": "code",
   "execution_count": null,
   "metadata": {},
   "outputs": [],
   "source": [
    "\n",
    "it = iter([1, 2, 3])"
   ]
  },
  {
   "cell_type": "markdown",
   "metadata": {},
   "source": [
    "## 12.1 Generators"
   ]
  },
  {
   "cell_type": "code",
   "execution_count": null,
   "metadata": {},
   "outputs": [],
   "source": [
    "\n",
    "generator = (x*2 for x in [1, 2, 3])        # Iterator subtype, gets iterator on first element\n",
    "\n",
    "print(next(generator), next(generator))     # -> 1, 2   -   generator could store states\n",
    "\n",
    "def my_range(n):                            # -> First entry 0 1 2 3 4 5 ...    - depends on n input\n",
    "    yield 'First entry'                     # like return, but func will store it's state, so.. this yield return for 1st call, but skipped for any next call\n",
    "\n",
    "    i = -1\n",
    "    while i < n:\n",
    "        i += 1\n",
    "        yield i                             # this yield would be called for 2nd my_range() call, then for 3rd call but with changed i value and e.t.c."
   ]
  },
  {
   "cell_type": "markdown",
   "metadata": {},
   "source": [
    "# 13. Classes"
   ]
  },
  {
   "cell_type": "code",
   "execution_count": null,
   "metadata": {},
   "outputs": [],
   "source": [
    "\n",
    "class Color:\n",
    "    brown: str = 'brown'                        # class member\n",
    "\n",
    "clr = Color()\n",
    "clr.brown\n",
    "Color.brown\n",
    "clr.brown = 'Brown'\n",
    "\n",
    "clr.red = 'red'                                 # [Feature] We could add members to class from 'anywhere' -_-\n",
    "\n",
    "\n",
    "class Kitty:\n",
    "    def __init__(self):                         # Entry point, NOT A CONSTRUCTOR! It gets object and init it's state. __new__ is responsible to create obj and it's a static member\n",
    "        self.bite_power = 9999\n",
    "\n",
    "    def Bite(self, bite_power) -> None:         # any class's stuff should notice pointer on class - self\n",
    "        pass\n",
    "\n",
    "    def Bite1(idk_what_is_self, bite_power):    # is also possible... don't do that*\n",
    "        pass\n",
    "\n",
    "    def Cuteonize(howStrong):                   # no self = static member\n",
    "        pass\n",
    "\n",
    "    def __magic_method__(self):                  # magic method\n",
    "        pass\n",
    "\n",
    "class Dummy:\n",
    "    def __init__(self):\n",
    "        self.public_field = 1                   # like public\n",
    "        self._private_field = -1                # like protected, but visible as public\n",
    "        self.__mangled_field = -999             # like private, but still could be used somehow.......\n",
    "\n",
    "    def DummyDo(self):\n",
    "        pass\n",
    "\n",
    "class DummyBro:\n",
    "    pass\n",
    "\n",
    "class DerivedDummy(Dummy, DummyBro):            # inheritance (multiple)\n",
    "    def DummyDo(self):                          # method override\n",
    "        return super().DummyDo()                # call parent's method implementation\n",
    "\n",
    "dmy = Dummy()\n",
    "#print(dmy.__mangled_field)                     # error -> can't see from outside\n",
    "print(dmy._Dummy__mangled_field)                # ...... i meant this somehow.....\n",
    "\n",
    "\n",
    "x = 5\n",
    "if isinstance(x, int):                          # check type, also could check if it's inherited\n",
    "    pass\n",
    "\n",
    "class DerivedInt(int):\n",
    "    pass\n",
    "\n",
    "if issubclass(DerivedInt, int):                 # the same but for types\n",
    "    pass"
   ]
  },
  {
   "cell_type": "markdown",
   "metadata": {},
   "source": [
    "## 13.1 Abstact classes"
   ]
  },
  {
   "cell_type": "code",
   "execution_count": null,
   "metadata": {},
   "outputs": [],
   "source": [
    "\n",
    "class AbstractDummy1():\n",
    "    def method(self):\n",
    "        raise NotImplementedError\n",
    "\n",
    "from abc import ABC, abstractmethod\n",
    "\n",
    "class AbstractDummy2(ABC):\n",
    "    @abstractmethod\n",
    "    def method():\n",
    "        ..."
   ]
  },
  {
   "cell_type": "markdown",
   "metadata": {},
   "source": [
    "## 13.2 Forward references"
   ]
  },
  {
   "cell_type": "markdown",
   "metadata": {},
   "source": [
    "\n",
    "~ like using currently undefined types"
   ]
  },
  {
   "cell_type": "code",
   "execution_count": null,
   "metadata": {},
   "outputs": [],
   "source": [
    "\n",
    "class ForwardDummy1:\n",
    "    def frwd(self) -> 'ForwardDummy1':              # without '...' there would be error\n",
    "        return ForwardDummy1()\n",
    "\n",
    "\n",
    "class ForwardDummy2:                                \n",
    "    def frwd(self) -> ForwardDummy2:                # requires from __future__ import annotations (in the beginning)\n",
    "        return ForwardDummy2()"
   ]
  },
  {
   "cell_type": "markdown",
   "metadata": {},
   "source": [
    "# 14. Attributes"
   ]
  },
  {
   "cell_type": "markdown",
   "metadata": {},
   "source": [
    "\n",
    "Some special params or methods, that should not be public, but are helpfull sometimes"
   ]
  },
  {
   "cell_type": "code",
   "execution_count": null,
   "metadata": {},
   "outputs": [],
   "source": [
    "\n",
    "print(dir(5)[:4])                   # special attributes are __magic_field__\n",
    "\n",
    "class Cls:\n",
    "    pass\n",
    "\n",
    "cls = Cls()\n",
    "\n",
    "setattr(cls, 'some_attr', 'some')   # add attribute\n",
    "\n",
    "print(getattr(cls, 'some_attr'))\n",
    "\n",
    "delattr(cls, 'some_attr')           # delete attribute\n",
    "\n",
    "#print(getattr(cls, 'some_attr'))   # error"
   ]
  },
  {
   "cell_type": "markdown",
   "metadata": {},
   "source": [
    "# 15. [Feature-like] Decorators"
   ]
  },
  {
   "cell_type": "markdown",
   "metadata": {},
   "source": [
    "Not like a programming pattern"
   ]
  },
  {
   "cell_type": "code",
   "execution_count": null,
   "metadata": {},
   "outputs": [],
   "source": [
    "\n",
    "class DecoratedInnocent:\n",
    "    def __init__(self): pass\n",
    "\n",
    "    @property                       # Decoration\n",
    "    def field(self):                # makes field read-only\n",
    "        return self._field\n",
    "\n",
    "    @staticmethod\n",
    "    def StaticMethod():         \n",
    "        pass\n",
    "\n",
    "    @classmethod\n",
    "    def ClassMethod():\n",
    "        pass\n",
    "\n",
    "\n",
    "hs_prp = DecoratedInnocent()\n",
    "DecoratedInnocent.StaticMethod()\n",
    "#hs_prp.field = 10                  # error -> field is read-only property\n",
    "\n",
    "\n",
    "from dataclasses import dataclass\n",
    "\n",
    "@dataclass(frozen=True, order=True)         # it's like a const structure of data, and it could be iteratable as tuple\n",
    "class Data:\n",
    "    int_field: int\n",
    "    str_field: str"
   ]
  },
  {
   "cell_type": "markdown",
   "metadata": {},
   "source": [
    "# 16. Throw, try-catch"
   ]
  },
  {
   "cell_type": "code",
   "execution_count": null,
   "metadata": {},
   "outputs": [],
   "source": [
    "\n",
    "try:\n",
    "    pass\n",
    "except ValueError:\n",
    "    raise                           # ~ throw -> here raise is like passing error further (for example, to next except: block)\n",
    "except RuntimeError as error:\n",
    "    raise LookupError from error    # could pass further with keeping previous exceptions\n",
    "except:                             # catch any exception\n",
    "    pass\n",
    "else:                               # if no exception\n",
    "    pass\n",
    "finally:                            # would be called anyway eventually\n",
    "    pass"
   ]
  },
  {
   "cell_type": "markdown",
   "metadata": {},
   "source": [
    "# 17. Typing stuff"
   ]
  },
  {
   "cell_type": "code",
   "execution_count": null,
   "metadata": {},
   "outputs": [],
   "source": [
    "\n",
    "from typing import Union, Any, Optional\n",
    "\n",
    "def FuncUnion(x: Union[list[int], set[int]]) -> None: ...       # could get x as list[int] or as set[int]\n",
    "\n",
    "def FuncAny(x: Any) -> None: x.nothing()                        # less checks than dynamic typing\n",
    "\n",
    "def FuncOptional(x: Optional[list[int]]) -> None: ...           # x as None or list[int]"
   ]
  },
  {
   "cell_type": "markdown",
   "metadata": {},
   "source": [
    "# 18. Generics"
   ]
  },
  {
   "cell_type": "code",
   "execution_count": null,
   "metadata": {},
   "outputs": [],
   "source": [
    "\n",
    "from typing import Generic, TypeVar\n",
    "\n",
    "T = TypeVar('T')                                                # Ref to type\n",
    "\n",
    "class Stack(Generic[T]):\n",
    "    def __init__(self):\n",
    "        self.items: list[T] = []\n",
    "\n",
    "    def push(self, item: T):\n",
    "        self.items.append(item)\n",
    "\n",
    "\n",
    "from typing import Callable                                             # Protocols are like concepts\n",
    "\n",
    "def ProtocolFunc(f: Callable[[int, int], bool]) -> bool:                # f should be func with signature - func(int, int) -> bool ~~ f should have __call__ and could be called in such extent\n",
    "    return f(1,2)\n",
    "\n",
    "ProtocolFunc(lambda x, y: x == y)"
   ]
  }
 ],
 "metadata": {
  "language_info": {
   "name": "python"
  }
 },
 "nbformat": 4,
 "nbformat_minor": 2
}
