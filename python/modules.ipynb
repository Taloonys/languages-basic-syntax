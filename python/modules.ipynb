{
 "cells": [
  {
   "cell_type": "markdown",
   "metadata": {},
   "source": [
    "# Modules"
   ]
  },
  {
   "cell_type": "code",
   "execution_count": null,
   "metadata": {},
   "outputs": [
    {
     "data": {
      "text/plain": [
       "<module 'numbers' from 'c:\\\\Users\\\\Vadim\\\\AppData\\\\Local\\\\Programs\\\\Python\\\\Python312\\\\Lib\\\\numbers.py'>"
      ]
     },
     "metadata": {},
     "output_type": "display_data"
    }
   ],
   "source": [
    "import numbers\n",
    "\n",
    "numbers.Number()                                # numbers - module namespace\n",
    "\n",
    "import numbers as nbrs                          # second import won't do anything\n",
    "\n",
    "nbrs.Number()                                   # nbrs - synonym to numbers module namespace\n",
    "\n",
    "from importlib import reload as reload_analog   # import part of the module\n",
    "\n",
    "reload_analog(numbers)                          # manually reload import (for example if it somehow changed)"
   ]
  }
 ],
 "metadata": {
  "language_info": {
   "name": "python"
  }
 },
 "nbformat": 4,
 "nbformat_minor": 2
}
