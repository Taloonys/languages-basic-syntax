{
 "cells": [
  {
   "cell_type": "markdown",
   "metadata": {},
   "source": [
    "# Python is...\n",
    "* `interpretating` language\n",
    "* `has garbage collector` (works like shared objects -> i.e. reference counting)\n",
    "* some types are `strongly immutable or mutable`\n",
    "* `dynamicly typed`, but could be restricted to static typing"
   ]
  },
  {
   "cell_type": "markdown",
   "metadata": {},
   "source": [
    "\n",
    "## Link on lectures\n",
    " https://github.com/MelLain/mipt-python/tree/spring-2024/lectures"
   ]
  },
  {
   "cell_type": "markdown",
   "metadata": {},
   "source": [
    "# Code Style<br>\n",
    "https://peps.python.org/pep-0008/"
   ]
  }
 ],
 "metadata": {
  "language_info": {
   "name": "python"
  }
 },
 "nbformat": 4,
 "nbformat_minor": 2
}
