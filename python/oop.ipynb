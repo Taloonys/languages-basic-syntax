{
 "cells": [
  {
   "cell_type": "markdown",
   "metadata": {},
   "source": [
    "# Classes"
   ]
  },
  {
   "cell_type": "code",
   "execution_count": null,
   "metadata": {},
   "outputs": [
    {
     "name": "stdout",
     "output_type": "stream",
     "text": [
      "-999\n"
     ]
    }
   ],
   "source": [
    "class Color:\n",
    "    brown: str = 'brown'                        # class member\n",
    "\n",
    "clr = Color()\n",
    "clr.brown\n",
    "Color.brown\n",
    "clr.brown = 'Brown'\n",
    "\n",
    "clr.red = 'red'                                 # [Feature] We could add members to class from 'anywhere' -_-\n",
    "\n",
    "\n",
    "class Kitty:\n",
    "    def __init__(self):                         # Entry point, NOT A CONSTRUCTOR! It gets object and init it's state. __new__ is responsible to create obj and it's a static member\n",
    "        self.bite_power = 9999\n",
    "\n",
    "    def Bite(self, bite_power) -> None:         # any class's stuff should notice pointer on class - self\n",
    "        pass\n",
    "\n",
    "    def Bite1(idk_what_is_self, bite_power):    # is also possible... don't do that*\n",
    "        pass\n",
    "\n",
    "    def Cuteonize(howStrong):                   # no self = static member\n",
    "        pass\n",
    "\n",
    "    def __magic_method__(self):                  # magic method\n",
    "        pass\n",
    "\n",
    "class Dummy:\n",
    "    def __init__(self):\n",
    "        self.public_field = 1                   # like public\n",
    "        self._private_field = -1                # like protected, but visible as public\n",
    "        self.__mangled_field = -999             # like private, but still could be used somehow.......\n",
    "\n",
    "    def DummyDo(self):\n",
    "        pass\n",
    "\n",
    "class DummyBro:\n",
    "    pass\n",
    "\n",
    "class DerivedDummy(Dummy, DummyBro):            # inheritance (multiple)\n",
    "    def DummyDo(self):                          # method override\n",
    "        return super().DummyDo()                # call parent's method implementation\n",
    "\n",
    "dmy = Dummy()\n",
    "#print(dmy.__mangled_field)                     # error -> can't see from outside\n",
    "print(dmy._Dummy__mangled_field)                # ...... i meant this somehow.....\n",
    "\n",
    "\n",
    "x = 5\n",
    "if isinstance(x, int):                          # check type, also could check if it's inherited\n",
    "    pass\n",
    "\n",
    "class DerivedInt(int):\n",
    "    pass\n",
    "\n",
    "if issubclass(DerivedInt, int):                 # the same but for types\n",
    "    pass"
   ]
  },
  {
   "cell_type": "markdown",
   "metadata": {},
   "source": [
    "## Abstact classes"
   ]
  },
  {
   "cell_type": "code",
   "execution_count": null,
   "metadata": {},
   "outputs": [],
   "source": [
    "class AbstractDummy1():\n",
    "    def method(self):\n",
    "        raise NotImplementedError\n",
    "\n",
    "from abc import ABC, abstractmethod\n",
    "\n",
    "class AbstractDummy2(ABC):\n",
    "    @abstractmethod\n",
    "    def method():\n",
    "        ..."
   ]
  },
  {
   "cell_type": "markdown",
   "metadata": {},
   "source": [
    "## Forward references"
   ]
  },
  {
   "cell_type": "markdown",
   "metadata": {},
   "source": [
    "\n",
    "~ like using currently undefined types"
   ]
  },
  {
   "cell_type": "code",
   "execution_count": null,
   "metadata": {},
   "outputs": [],
   "source": [
    "from __future__ import annotations"
   ]
  },
  {
   "cell_type": "code",
   "execution_count": null,
   "metadata": {},
   "outputs": [],
   "source": [
    "class ForwardDummy1:\n",
    "    def frwd(self) -> 'ForwardDummy1':              # without '...' there would be error\n",
    "        return ForwardDummy1()\n",
    "\n",
    "\n",
    "class ForwardDummy2:                                \n",
    "    def frwd(self) -> ForwardDummy2:                # requires from __future__ import annotations (in the beginning)\n",
    "        return ForwardDummy2()"
   ]
  },
  {
   "cell_type": "markdown",
   "metadata": {},
   "source": [
    "# [Feature-like] Decorators"
   ]
  },
  {
   "cell_type": "markdown",
   "metadata": {},
   "source": [
    "Not like a programming pattern"
   ]
  },
  {
   "cell_type": "code",
   "execution_count": null,
   "metadata": {},
   "outputs": [],
   "source": [
    "class DecoratedInnocent:\n",
    "    def __init__(self): pass\n",
    "\n",
    "    @property                       # Decoration\n",
    "    def field(self):                # makes field read-only\n",
    "        return self._field\n",
    "\n",
    "    @staticmethod\n",
    "    def StaticMethod():         \n",
    "        pass\n",
    "\n",
    "    @classmethod\n",
    "    def ClassMethod():\n",
    "        pass\n",
    "\n",
    "\n",
    "hs_prp = DecoratedInnocent()\n",
    "DecoratedInnocent.StaticMethod()\n",
    "#hs_prp.field = 10                  # error -> field is read-only property\n",
    "\n",
    "\n",
    "from dataclasses import dataclass\n",
    "\n",
    "@dataclass(frozen=True, order=True)         # it's like a const structure of data, and it could be iteratable as tuple\n",
    "class Data:\n",
    "    int_field: int\n",
    "    str_field: str"
   ]
  }
 ],
 "metadata": {
  "language_info": {
   "name": "python"
  }
 },
 "nbformat": 4,
 "nbformat_minor": 2
}
