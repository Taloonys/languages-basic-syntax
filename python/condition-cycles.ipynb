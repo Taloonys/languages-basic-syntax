{
 "cells": [
  {
   "cell_type": "markdown",
   "metadata": {},
   "source": [
    "# Cycles, loops and etc."
   ]
  },
  {
   "cell_type": "markdown",
   "metadata": {},
   "source": [
    "# Condition"
   ]
  },
  {
   "cell_type": "code",
   "execution_count": null,
   "metadata": {},
   "outputs": [],
   "source": [
    "if 5 % 2 == 0:\n",
    "    pass                                # simple buddy for empty scope\n",
    "else:\n",
    "    pass\n",
    "\n",
    "a = 5 if None is None else 5555         # ternar"
   ]
  },
  {
   "cell_type": "markdown",
   "metadata": {},
   "source": [
    "## Cycles"
   ]
  },
  {
   "cell_type": "markdown",
   "metadata": {},
   "source": [
    "### while"
   ]
  },
  {
   "cell_type": "code",
   "execution_count": null,
   "metadata": {},
   "outputs": [],
   "source": [
    "a = 10\n",
    "while a is not None:\n",
    "    a += 1\n",
    "    if a == 15: break\n",
    "    if a != 13: continue \n",
    "else:                                   # not necessary, but a sign that it can be here\n",
    "    pass"
   ]
  },
  {
   "cell_type": "markdown",
   "metadata": {},
   "source": [
    "### for"
   ]
  },
  {
   "cell_type": "code",
   "execution_count": null,
   "metadata": {},
   "outputs": [],
   "source": [
    "lst = [1, 2, 3]\n",
    "for element in lst:                     # range based\n",
    "    pass\n",
    "\n",
    "for index in range(len(lst)):           # index based, range() is a generator that operates with iterators\n",
    "    if lst[index] is not None: break\n",
    "else:\n",
    "    pass\n",
    "\n",
    "for index, element in enumerate(lst):   # index + range based\n",
    "    pass"
   ]
  }
 ],
 "metadata": {
  "language_info": {
   "name": "python"
  }
 },
 "nbformat": 4,
 "nbformat_minor": 2
}
