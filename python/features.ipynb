{
 "cells": [
  {
   "cell_type": "markdown",
   "metadata": {},
   "source": [
    "# [Feature] String evaluation as code"
   ]
  },
  {
   "cell_type": "code",
   "execution_count": null,
   "metadata": {},
   "outputs": [],
   "source": [
    "eval('1 + 2')\n",
    "exec(\n",
    "'''\n",
    "str_a = 123\n",
    "str_b = 111\n",
    "print(str_a + str_b)\n",
    "'''\n",
    ")"
   ]
  }
 ],
 "metadata": {
  "language_info": {
   "name": "python"
  }
 },
 "nbformat": 4,
 "nbformat_minor": 2
}
