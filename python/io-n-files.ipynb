{
 "cells": [
  {
   "cell_type": "markdown",
   "metadata": {},
   "source": [
    "# Input / Output"
   ]
  },
  {
   "cell_type": "code",
   "execution_count": null,
   "metadata": {},
   "outputs": [],
   "source": [
    "input_value = input('Input ur value here:')     # this func print text + returns user input\n",
    "print('Congrats')"
   ]
  },
  {
   "cell_type": "markdown",
   "metadata": {},
   "source": [
    "# Working with files"
   ]
  },
  {
   "cell_type": "code",
   "execution_count": null,
   "metadata": {},
   "outputs": [],
   "source": [
    "file_to_read = open('some_file.txt', 'r')           # Open file on read('r') | 'a' - append - to write\n",
    "file_to_read.read()\n",
    "file_to_read.close()\n",
    "file_to_read.closed                                 # check if closed\n",
    "\n",
    "with open('some_file.txt', 'a') as file_to_write:           # file context-manager, better to use this all the time\n",
    "    file_to_write.write('additional string')"
   ]
  }
 ],
 "metadata": {
  "language_info": {
   "name": "python"
  }
 },
 "nbformat": 4,
 "nbformat_minor": 2
}
