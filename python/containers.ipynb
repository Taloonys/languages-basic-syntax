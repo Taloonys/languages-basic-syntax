{
 "cells": [
  {
   "cell_type": "markdown",
   "metadata": {},
   "source": [
    "\n",
    "# Containers / collections"
   ]
  },
  {
   "cell_type": "markdown",
   "metadata": {},
   "source": [
    "\n",
    "- Some objects are fixed to muttable or immutable states <br>\n",
    "- Mutable states are passed to modifying, immutable - onle as copy."
   ]
  },
  {
   "cell_type": "markdown",
   "metadata": {},
   "source": [
    "*Copying stuff*"
   ]
  },
  {
   "cell_type": "code",
   "execution_count": null,
   "metadata": {},
   "outputs": [],
   "source": [
    "\n",
    "lst1 = [1, 2, 3]\n",
    "lst2 = lst1[:]                  # copy\n",
    "lst2 = lst1.copy()              # also copy\n",
    "lst3 = lst1                     # not copy, lst3 now also points on [1, 2, 3]... as well as lst1\n",
    "\n",
    "import copy\n",
    "\n",
    "lst1 = [[1, 2, 3], 4, 5]    \n",
    "lst2 = copy.deepcopy(lst1)          # also copy nested muttable objects! any nested-nested objects require more deepcopy calls =)"
   ]
  },
  {
   "cell_type": "markdown",
   "metadata": {},
   "source": [
    "*Zipping containers*"
   ]
  },
  {
   "cell_type": "code",
   "execution_count": null,
   "metadata": {},
   "outputs": [],
   "source": [
    "\n",
    "z = zip([1, 2, 3], 'abc')           # 'Compress by iterators 1 to 'a', 2 to 'b', 3 to 'c'\n",
    "for a, b in z:\n",
    "    print(a, b, end=' ')\n",
    "print()                             # skip line"
   ]
  },
  {
   "cell_type": "markdown",
   "metadata": {},
   "source": [
    "## Lists\n",
    "- \"Smart\" array-like type <br>\n",
    "- Mutable"
   ]
  },
  {
   "cell_type": "code",
   "execution_count": null,
   "metadata": {},
   "outputs": [],
   "source": [
    "lst = [1, None, 'abc']                  \n",
    "lst[0] = 111                            \n",
    "lst[-1]                                 # Same bound logic -> 'abc'\n",
    "# lst[5]                                # Error\n",
    "\n",
    "even_qrt_lst = [x ** 2 for x in [1, 3, 5, 7, 9] if x <= 5]    # list generator -> [1, 9, 25]"
   ]
  },
  {
   "cell_type": "markdown",
   "metadata": {},
   "source": [
    "### Tuples\n",
    "- Immutable version of lists"
   ]
  },
  {
   "cell_type": "code",
   "execution_count": null,
   "metadata": {},
   "outputs": [],
   "source": [
    "\n",
    "tupple_object = (1, 'abc', True)"
   ]
  },
  {
   "cell_type": "markdown",
   "metadata": {},
   "source": [
    "## Dictionary\n",
    "- Elements are {`Key`: `value`} <br>\n",
    "- Mutable <br>\n",
    "- Based on Hash tables"
   ]
  },
  {
   "cell_type": "code",
   "execution_count": null,
   "metadata": {},
   "outputs": [],
   "source": [
    "dictionary = {1: 'One',\n",
    "              2: 'Two',\n",
    "              3: 'Three',\n",
    "              4: 'Four'}            \n",
    "del dictionary[4]                   # removes object with key - 4\n",
    "\n",
    "d = dict.fromkeys(list('aaaabbcccc'))           # {'a': None, 'b': None, 'c': None}\n",
    "\n",
    "d1 = {4: 'four', 5: 'five'}\n",
    "dictionary | d1                     # Dictionary concatenation (no assign)\n",
    "dictionary |= d1                    # Concatenation & assign"
   ]
  },
  {
   "cell_type": "markdown",
   "metadata": {},
   "source": [
    "### Set\n",
    "- Dictionary variation, but without keys <br>\n",
    "- Contains only unique values <br>\n",
    "- Mutable"
   ]
  },
  {
   "cell_type": "code",
   "execution_count": null,
   "metadata": {},
   "outputs": [],
   "source": [
    "set_object = {1, 2, 2, 3, 3, 3, 3, 3, '4', '4', '5'}"
   ]
  },
  {
   "cell_type": "markdown",
   "metadata": {},
   "source": [
    "# Iterator"
   ]
  },
  {
   "cell_type": "markdown",
   "metadata": {},
   "source": [
    "\n",
    "it = iter([1, 2, 3])"
   ]
  },
  {
   "cell_type": "markdown",
   "metadata": {},
   "source": [
    "## Generators"
   ]
  },
  {
   "cell_type": "code",
   "execution_count": null,
   "metadata": {},
   "outputs": [],
   "source": [
    "generator = (x*2 for x in [1, 2, 3])        # Iterator subtype, gets iterator on first element\n",
    "\n",
    "print(next(generator), next(generator))     # -> 1, 2   -   generator could store states"
   ]
  }
 ],
 "metadata": {
  "language_info": {
   "name": "python"
  }
 },
 "nbformat": 4,
 "nbformat_minor": 2
}
